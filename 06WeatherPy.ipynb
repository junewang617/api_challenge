{
 "cells": [
  {
   "cell_type": "markdown",
   "metadata": {},
   "source": [
    "# WeatherPy\n",
    "----\n",
    "\n",
    "#### Note\n",
    "* Instructions have been included for each segment. You do not have to follow them exactly, but they are included to help you think through the steps."
   ]
  },
  {
   "cell_type": "code",
   "execution_count": 1,
   "metadata": {
    "scrolled": true
   },
   "outputs": [],
   "source": [
    "# Dependencies and Setup\n",
    "import matplotlib.pyplot as plt\n",
    "import pandas as pd\n",
    "import numpy as np\n",
    "import requests\n",
    "import time\n",
    "from scipy.stats import linregress\n",
    "\n",
    "# Import API key\n",
    "from config import api_key\n",
    "\n",
    "# Incorporated citipy to determine city based on latitude and longitude\n",
    "from citipy import citipy\n",
    "\n",
    "# Output File (CSV)\n",
    "output_data_file = \"cities.csv\"\n",
    "\n",
    "# Range of latitudes and longitudes\n",
    "lat_range = (-90, 90)\n",
    "lng_range = (-180, 180)"
   ]
  },
  {
   "cell_type": "markdown",
   "metadata": {},
   "source": [
    "## Generate Cities List"
   ]
  },
  {
   "cell_type": "code",
   "execution_count": 2,
   "metadata": {},
   "outputs": [
    {
     "data": {
      "text/plain": [
       "625"
      ]
     },
     "execution_count": 2,
     "metadata": {},
     "output_type": "execute_result"
    }
   ],
   "source": [
    "# List for holding lat_lngs and cities\n",
    "lat_lngs = []\n",
    "cities = []\n",
    "\n",
    "# Create a set of random lat and lng combinations\n",
    "lats = np.random.uniform(lat_range[0], lat_range[1], size=1500)\n",
    "lngs = np.random.uniform(lng_range[0], lng_range[1], size=1500)\n",
    "lat_lngs = zip(lats, lngs)\n",
    "\n",
    "# Identify nearest city for each lat, lng combination\n",
    "for lat_lng in lat_lngs:\n",
    "    city = citipy.nearest_city(lat_lng[0], lat_lng[1]).city_name\n",
    "    \n",
    "    # If the city is unique, then add it to a our cities list\n",
    "    if city not in cities:\n",
    "        cities.append(city)\n",
    "\n",
    "# Print the city count to confirm sufficient count\n",
    "len(cities)"
   ]
  },
  {
   "cell_type": "markdown",
   "metadata": {},
   "source": [
    "### Perform API Calls\n",
    "* Perform a weather check on each city using a series of successive API calls.\n",
    "* Include a print log of each city as it'sbeing processed (with the city number and city name).\n"
   ]
  },
  {
   "cell_type": "code",
   "execution_count": 3,
   "metadata": {},
   "outputs": [
    {
     "name": "stdout",
     "output_type": "stream",
     "text": [
      "jamestown found and info added\n",
      "mineiros found and info added\n",
      "constantine found and info added\n",
      "busselton found and info added\n",
      "sooke found and info added\n",
      "vaini found and info added\n",
      "cape town found and info added\n",
      "hermanus found and info added\n",
      "kodiak found and info added\n",
      "mys shmidta: was not found, skipping....\n",
      "uyemskiy found and info added\n",
      "cabo san lucas found and info added\n",
      "bethel found and info added\n",
      "ushuaia found and info added\n",
      "hamilton found and info added\n",
      "mashhad found and info added\n",
      "ribeira grande found and info added\n",
      "bredasdorp found and info added\n",
      "nizhniy kuranakh found and info added\n",
      "illoqqortoormiut: was not found, skipping....\n",
      "saint-philippe found and info added\n",
      "san patricio found and info added\n",
      "san vicente found and info added\n",
      "chokurdakh found and info added\n",
      "lebu found and info added\n",
      "hobart found and info added\n",
      "kapaa found and info added\n",
      "pa sang found and info added\n",
      "mar del plata found and info added\n",
      "nemuro found and info added\n",
      "tagusao found and info added\n",
      "klaksvik found and info added\n",
      "taolanaro: was not found, skipping....\n",
      "los llanos de aridane found and info added\n",
      "san quintin found and info added\n",
      "albany found and info added\n",
      "kieta found and info added\n",
      "mataura found and info added\n",
      "turan found and info added\n",
      "ucluelet found and info added\n",
      "leningradskiy found and info added\n",
      "mount gambier found and info added\n",
      "port elizabeth found and info added\n",
      "bengkulu found and info added\n",
      "tsihombe: was not found, skipping....\n",
      "vaitupu: was not found, skipping....\n",
      "rio grande found and info added\n",
      "mabaruma found and info added\n",
      "belushya guba: was not found, skipping....\n",
      "turochak found and info added\n",
      "narsaq found and info added\n",
      "barrow found and info added\n",
      "osakarovka found and info added\n",
      "lompoc found and info added\n",
      "shache found and info added\n",
      "lac du bonnet found and info added\n",
      "adrar found and info added\n",
      "iqaluit found and info added\n",
      "qaanaaq found and info added\n",
      "constitucion found and info added\n",
      "port alfred found and info added\n",
      "severo-kurilsk found and info added\n",
      "punta arenas found and info added\n",
      "rikitea found and info added\n",
      "ostrovnoy found and info added\n",
      "saint-georges found and info added\n",
      "butaritari found and info added\n",
      "lorengau found and info added\n",
      "ongandjera found and info added\n",
      "mrirt: was not found, skipping....\n",
      "richards bay found and info added\n",
      "great yarmouth found and info added\n",
      "north platte found and info added\n",
      "marawi found and info added\n",
      "krasnoselkup found and info added\n",
      "talnakh found and info added\n",
      "east london found and info added\n",
      "longlac: was not found, skipping....\n",
      "darab found and info added\n",
      "komsomolskiy found and info added\n",
      "temba found and info added\n",
      "beringovskiy found and info added\n",
      "basirhat found and info added\n",
      "cidreira found and info added\n",
      "nanortalik found and info added\n",
      "minab found and info added\n",
      "puerto ayora found and info added\n",
      "supe found and info added\n",
      "luderitz found and info added\n",
      "mahebourg found and info added\n",
      "tasiilaq found and info added\n",
      "tabou found and info added\n",
      "upernavik found and info added\n",
      "beloha found and info added\n",
      "neiafu found and info added\n",
      "ambilobe found and info added\n",
      "ambulu found and info added\n",
      "aykhal found and info added\n",
      "nesbyen found and info added\n",
      "tuatapere found and info added\n",
      "yar-sale found and info added\n",
      "kruisfontein found and info added\n",
      "vao found and info added\n",
      "yellowknife found and info added\n",
      "nosy varika found and info added\n",
      "clyde river found and info added\n",
      "olafsvik found and info added\n",
      "castro found and info added\n",
      "sao filipe found and info added\n",
      "grand gaube found and info added\n",
      "mkushi found and info added\n",
      "shitanjing found and info added\n",
      "victoria found and info added\n",
      "lodwar found and info added\n",
      "atuona found and info added\n",
      "saint george found and info added\n",
      "bandar penggaram: was not found, skipping....\n",
      "somerset found and info added\n",
      "carutapera found and info added\n",
      "kavieng found and info added\n",
      "bluff found and info added\n",
      "norman wells found and info added\n",
      "jibuti found and info added\n",
      "myitkyina found and info added\n",
      "rocha found and info added\n",
      "sumenep found and info added\n",
      "hami found and info added\n",
      "tuktoyaktuk found and info added\n",
      "shushtar found and info added\n",
      "nouadhibou found and info added\n",
      "samana found and info added\n",
      "muswellbrook found and info added\n",
      "hilo found and info added\n",
      "torbay found and info added\n",
      "ancud found and info added\n",
      "santiago del estero found and info added\n",
      "pacific grove found and info added\n",
      "elizabeth city found and info added\n",
      "palabuhanratu: was not found, skipping....\n",
      "khatanga found and info added\n",
      "fairbanks found and info added\n",
      "gamboma found and info added\n",
      "salalah found and info added\n",
      "chuy found and info added\n",
      "praia found and info added\n",
      "sacramento found and info added\n",
      "sile found and info added\n",
      "fort nelson found and info added\n",
      "dhidhdhoo found and info added\n",
      "umzimvubu: was not found, skipping....\n",
      "hithadhoo found and info added\n",
      "ambatofinandrahana found and info added\n",
      "gambo found and info added\n",
      "arteaga found and info added\n",
      "arraial do cabo found and info added\n",
      "tura found and info added\n",
      "mago found and info added\n",
      "pevek found and info added\n",
      "attawapiskat: was not found, skipping....\n",
      "avezzano found and info added\n",
      "helong found and info added\n",
      "jimo found and info added\n",
      "garhi yasin found and info added\n",
      "pisco found and info added\n",
      "sinnamary found and info added\n",
      "cherskiy found and info added\n",
      "hualmay found and info added\n",
      "kysyl-syr found and info added\n",
      "paramonga found and info added\n",
      "yondo found and info added\n",
      "liberal found and info added\n",
      "sitka found and info added\n",
      "say found and info added\n",
      "sorong found and info added\n",
      "coquimbo found and info added\n",
      "nizhneyansk: was not found, skipping....\n",
      "mayo found and info added\n",
      "surin found and info added\n",
      "georgetown found and info added\n",
      "price found and info added\n",
      "kaeo found and info added\n",
      "kamenskoye: was not found, skipping....\n",
      "port blair found and info added\n",
      "provideniya found and info added\n",
      "chandrakona found and info added\n",
      "nikolskoye found and info added\n",
      "guerrero negro found and info added\n",
      "burns lake found and info added\n",
      "dzerzhinskoye found and info added\n",
      "shar found and info added\n",
      "ilulissat found and info added\n",
      "baherden found and info added\n",
      "vercelli found and info added\n",
      "faanui found and info added\n",
      "san andres found and info added\n",
      "asyut found and info added\n",
      "coos bay found and info added\n",
      "meulaboh found and info added\n",
      "lembeni found and info added\n",
      "khani found and info added\n",
      "nome found and info added\n",
      "krasnousolskiy: was not found, skipping....\n",
      "egvekinot found and info added\n",
      "half moon bay found and info added\n",
      "kisangani found and info added\n",
      "antofagasta found and info added\n",
      "avarua found and info added\n",
      "aklavik found and info added\n",
      "suileng found and info added\n",
      "lata found and info added\n",
      "yaring found and info added\n",
      "okmulgee found and info added\n",
      "takoradi found and info added\n",
      "jiddah: was not found, skipping....\n",
      "qaqortoq found and info added\n",
      "yaan found and info added\n",
      "axim found and info added\n",
      "la ronge found and info added\n",
      "broome found and info added\n",
      "santa rita do sapucai found and info added\n",
      "kokopo found and info added\n",
      "dalbandin found and info added\n",
      "niigata found and info added\n",
      "hofn found and info added\n",
      "dingle found and info added\n",
      "nueva germania found and info added\n",
      "wajima found and info added\n",
      "chapais found and info added\n",
      "marsh harbour found and info added\n",
      "saldanha found and info added\n",
      "grand river south east: was not found, skipping....\n",
      "sao miguel do araguaia found and info added\n",
      "new norfolk found and info added\n",
      "jalu found and info added\n",
      "turtkul: was not found, skipping....\n",
      "codrington found and info added\n",
      "tiznit found and info added\n",
      "batticaloa found and info added\n",
      "porto santo found and info added\n",
      "barawe: was not found, skipping....\n",
      "kaitangata found and info added\n",
      "carnarvon found and info added\n",
      "anadyr found and info added\n",
      "gobabis found and info added\n",
      "lillooet found and info added\n",
      "peterhead found and info added\n",
      "ahipara found and info added\n",
      "peace river found and info added\n",
      "bandarbeyla found and info added\n",
      "chimbote found and info added\n",
      "lodja found and info added\n",
      "bodden town found and info added\n",
      "novikovo found and info added\n",
      "saint-denis found and info added\n",
      "novyy urengoy found and info added\n",
      "kentau found and info added\n",
      "thompson found and info added\n",
      "dikson found and info added\n",
      "cockburn town found and info added\n",
      "lagoa found and info added\n",
      "osorno found and info added\n",
      "muscat found and info added\n",
      "bay city found and info added\n",
      "honiara found and info added\n",
      "bustamante found and info added\n"
     ]
    },
    {
     "name": "stdout",
     "output_type": "stream",
     "text": [
      "yetkul found and info added\n",
      "aginskoye found and info added\n",
      "tucumcari found and info added\n",
      "nyurba found and info added\n",
      "ust-kamchatsk: was not found, skipping....\n",
      "damietta found and info added\n",
      "chenghai found and info added\n",
      "solnechnyy found and info added\n",
      "saskylakh found and info added\n",
      "moose factory found and info added\n",
      "ondorhaan: was not found, skipping....\n",
      "guasca found and info added\n",
      "whitefish found and info added\n",
      "airai found and info added\n",
      "bambous virieux found and info added\n",
      "leshukonskoye found and info added\n",
      "yangjiang found and info added\n",
      "buala found and info added\n",
      "san bartolome de tirajana found and info added\n",
      "aripuana found and info added\n",
      "panacan found and info added\n",
      "bafq found and info added\n",
      "ketchikan found and info added\n",
      "paamiut found and info added\n",
      "mentok: was not found, skipping....\n",
      "ambunti found and info added\n",
      "cazaje: was not found, skipping....\n",
      "tilichiki found and info added\n",
      "baykit found and info added\n",
      "isoka found and info added\n",
      "general roca found and info added\n",
      "la cruz found and info added\n",
      "boca do acre found and info added\n",
      "baoqing found and info added\n",
      "asasa found and info added\n",
      "sukhobuzimskoye found and info added\n",
      "bukene found and info added\n",
      "calama found and info added\n",
      "tamandare found and info added\n",
      "saint-joseph found and info added\n",
      "hambantota found and info added\n",
      "natal found and info added\n",
      "tumsar found and info added\n",
      "pangnirtung found and info added\n",
      "tiksi found and info added\n",
      "tsiroanomandidy found and info added\n",
      "villarrica found and info added\n",
      "moctezuma found and info added\n",
      "sentyabrskiy: was not found, skipping....\n",
      "peleduy found and info added\n",
      "sri aman found and info added\n",
      "tabarqah: was not found, skipping....\n",
      "zhoucun found and info added\n",
      "kindu found and info added\n",
      "ilo found and info added\n",
      "juxian: was not found, skipping....\n",
      "soyo found and info added\n",
      "portland found and info added\n",
      "rio gallegos found and info added\n",
      "vilhena found and info added\n",
      "longyearbyen found and info added\n",
      "limbang found and info added\n",
      "ponta do sol found and info added\n",
      "vysokogornyy found and info added\n",
      "bandarban found and info added\n",
      "beachwood found and info added\n",
      "lavrentiya found and info added\n",
      "doha found and info added\n",
      "ambon found and info added\n",
      "nurota found and info added\n",
      "fukue found and info added\n",
      "oranjemund found and info added\n",
      "salaga found and info added\n",
      "sinegorye found and info added\n",
      "kutum found and info added\n",
      "ternate found and info added\n",
      "qixia found and info added\n",
      "burgersdorp found and info added\n",
      "isangel found and info added\n",
      "coahuayana found and info added\n",
      "rungata: was not found, skipping....\n",
      "olden found and info added\n",
      "pacasmayo found and info added\n",
      "envira found and info added\n",
      "palauig found and info added\n",
      "andenes found and info added\n",
      "dasoguz found and info added\n",
      "camana found and info added\n",
      "saint-pierre found and info added\n",
      "sur found and info added\n",
      "sola found and info added\n",
      "saint anthony found and info added\n",
      "pocone found and info added\n",
      "otradnoye found and info added\n",
      "sorvag: was not found, skipping....\n",
      "cozumel found and info added\n",
      "stephenville found and info added\n",
      "batagay found and info added\n",
      "omboue found and info added\n",
      "florianopolis found and info added\n",
      "lakselv found and info added\n",
      "kavaratti found and info added\n",
      "santa cruz de la palma found and info added\n",
      "weihe found and info added\n",
      "buchanan found and info added\n",
      "banda aceh found and info added\n",
      "mushie found and info added\n",
      "cabatuan found and info added\n",
      "bilibino found and info added\n",
      "dengfeng found and info added\n",
      "verrettes found and info added\n",
      "cherdyn found and info added\n",
      "gigmoto found and info added\n",
      "cayenne found and info added\n",
      "wenling found and info added\n",
      "rosarito found and info added\n",
      "jaranwala found and info added\n",
      "krasnyy chikoy found and info added\n",
      "mullaitivu: was not found, skipping....\n",
      "agadez found and info added\n",
      "utete found and info added\n",
      "choma found and info added\n",
      "porto novo found and info added\n",
      "ulaanbaatar found and info added\n",
      "vilyuysk found and info added\n",
      "lashio found and info added\n",
      "shwebo found and info added\n",
      "port-cartier found and info added\n",
      "weiser found and info added\n",
      "nalut found and info added\n",
      "katsuura found and info added\n",
      "vila velha found and info added\n",
      "nipawin found and info added\n",
      "ginir found and info added\n",
      "visby found and info added\n",
      "gamba found and info added\n",
      "yumen found and info added\n",
      "broken hill found and info added\n",
      "mogadishu found and info added\n",
      "bereda found and info added\n",
      "teguldet found and info added\n",
      "celestun found and info added\n",
      "lasa found and info added\n",
      "amapa found and info added\n",
      "watsa found and info added\n",
      "vila franca do campo found and info added\n",
      "kahului found and info added\n",
      "fallon found and info added\n",
      "high rock found and info added\n",
      "byron bay found and info added\n",
      "alofi found and info added\n",
      "san cristobal found and info added\n",
      "sumbawa: was not found, skipping....\n",
      "port lincoln found and info added\n",
      "turbat found and info added\n",
      "polyarnyy found and info added\n",
      "bur gabo: was not found, skipping....\n",
      "acari found and info added\n",
      "zhigansk found and info added\n",
      "trebisov found and info added\n",
      "brae found and info added\n",
      "menongue found and info added\n",
      "port hardy found and info added\n",
      "beeville found and info added\n",
      "dickinson found and info added\n",
      "pasighat found and info added\n",
      "lucea found and info added\n",
      "xuddur found and info added\n",
      "viking found and info added\n",
      "staryy nadym found and info added\n",
      "pudem found and info added\n",
      "leova found and info added\n",
      "ilanskiy found and info added\n",
      "ugoofaaru found and info added\n",
      "westport found and info added\n",
      "daphne found and info added\n",
      "mutis found and info added\n",
      "barentsburg: was not found, skipping....\n",
      "taoudenni found and info added\n",
      "namyslow found and info added\n",
      "tomatlan found and info added\n",
      "kosa found and info added\n",
      "tornio found and info added\n",
      "elk city found and info added\n",
      "namatanai found and info added\n",
      "halaszi found and info added\n",
      "hasaki found and info added\n",
      "ngunguru found and info added\n",
      "meyungs: was not found, skipping....\n",
      "udimskiy found and info added\n",
      "ajdabiya found and info added\n",
      "faya found and info added\n",
      "quang ngai found and info added\n",
      "russell found and info added\n",
      "bage found and info added\n",
      "lima found and info added\n",
      "roald found and info added\n",
      "uige found and info added\n",
      "basco found and info added\n",
      "dyurtyuli found and info added\n",
      "mareeba found and info added\n",
      "zyryanka found and info added\n",
      "karpathos found and info added\n",
      "tucupita found and info added\n",
      "manzil tamim: was not found, skipping....\n",
      "puerto palomas found and info added\n",
      "sao francisco found and info added\n",
      "kharan found and info added\n",
      "dejen found and info added\n",
      "iguape found and info added\n",
      "albanel found and info added\n",
      "pio ix found and info added\n",
      "grafton found and info added\n",
      "katha: was not found, skipping....\n",
      "darhan found and info added\n",
      "trairi found and info added\n",
      "amderma: was not found, skipping....\n",
      "fortuna found and info added\n",
      "tumannyy: was not found, skipping....\n",
      "merrill found and info added\n",
      "naze found and info added\n",
      "luwuk found and info added\n",
      "millerovo found and info added\n",
      "hachinohe found and info added\n",
      "eregli found and info added\n",
      "mayachnyy found and info added\n",
      "sorland found and info added\n",
      "margate found and info added\n",
      "ipixuna found and info added\n",
      "sokolovo found and info added\n",
      "kologriv found and info added\n",
      "ginda found and info added\n",
      "orje found and info added\n",
      "bandar-e torkaman: was not found, skipping....\n",
      "boyolangu found and info added\n",
      "durazno found and info added\n",
      "samusu: was not found, skipping....\n",
      "hilversum found and info added\n",
      "lincoln found and info added\n",
      "tobermory found and info added\n",
      "malanje found and info added\n",
      "nelson bay found and info added\n",
      "goderich found and info added\n",
      "praia da vitoria found and info added\n",
      "souillac found and info added\n",
      "abu samrah found and info added\n",
      "asau found and info added\n",
      "poum found and info added\n",
      "champerico found and info added\n",
      "hobyo found and info added\n",
      "taiyuan found and info added\n",
      "naron found and info added\n",
      "namie found and info added\n",
      "louisbourg: was not found, skipping....\n",
      "tahe found and info added\n",
      "kazalinsk: was not found, skipping....\n",
      "jua found and info added\n",
      "cairns found and info added\n",
      "talcahuano found and info added\n",
      "kampong thum found and info added\n",
      "el faiyum: was not found, skipping....\n",
      "peniche found and info added\n",
      "havelock found and info added\n",
      "madimba found and info added\n",
      "jaspur found and info added\n",
      "semnan found and info added\n",
      "kontagora found and info added\n",
      "la paz found and info added\n",
      "deputatskiy found and info added\n",
      "miracema do tocantins found and info added\n"
     ]
    },
    {
     "name": "stdout",
     "output_type": "stream",
     "text": [
      "bathsheba found and info added\n",
      "bang phae found and info added\n",
      "tual found and info added\n",
      "millville found and info added\n",
      "yarmouth found and info added\n",
      "port augusta found and info added\n",
      "yicheng found and info added\n",
      "luwingu found and info added\n",
      "xichang found and info added\n",
      "rock sound found and info added\n",
      "olinda found and info added\n",
      "bloomington found and info added\n",
      "chicama found and info added\n",
      "yakeshi found and info added\n",
      "kirkwall found and info added\n",
      "grindavik found and info added\n",
      "bubaque found and info added\n",
      "bay roberts found and info added\n",
      "moerai found and info added\n",
      "rawson found and info added\n",
      "saleaula: was not found, skipping....\n",
      "surt found and info added\n",
      "geraldton found and info added\n",
      "verkhoyansk found and info added\n",
      "bagotville found and info added\n",
      "mastic beach found and info added\n",
      "preobrazheniye found and info added\n",
      "dunedin found and info added\n",
      "shimoda found and info added\n",
      "vinh found and info added\n",
      "vulturu found and info added\n",
      "nurlat found and info added\n",
      "letpadan found and info added\n",
      "beisfjord found and info added\n",
      "mitoc found and info added\n",
      "wasilla found and info added\n",
      "ussel found and info added\n",
      "pierre found and info added\n",
      "warqla: was not found, skipping....\n",
      "kerch found and info added\n",
      "jining found and info added\n",
      "kamenka found and info added\n",
      "xinzhi found and info added\n",
      "tungkang: was not found, skipping....\n",
      "lubango found and info added\n",
      "opelousas found and info added\n",
      "marsaxlokk found and info added\n",
      "tazovskiy found and info added\n",
      "mayor pablo lagerenza found and info added\n",
      "dores do indaia found and info added\n",
      "kasempa found and info added\n",
      "dudinka found and info added\n",
      "polis found and info added\n",
      "buarcos found and info added\n",
      "shingu found and info added\n",
      "verkhnetulomskiy found and info added\n",
      "high level found and info added\n",
      "kununurra found and info added\n",
      "mpanda found and info added\n",
      "gimli found and info added\n",
      "okhotsk found and info added\n",
      "sundumbili found and info added\n",
      "waipawa found and info added\n",
      "kuryk found and info added\n",
      "pafos found and info added\n",
      "namtsy found and info added\n",
      "hondo found and info added\n",
      "vostok found and info added\n",
      "songjianghe found and info added\n",
      "mukerian found and info added\n",
      "maghama: was not found, skipping....\n",
      "esperance found and info added\n",
      "port-gentil found and info added\n",
      "kuching found and info added\n",
      "strezhevoy found and info added\n",
      "husavik found and info added\n",
      "daru found and info added\n",
      "vernon found and info added\n",
      "viligili: was not found, skipping....\n",
      "rudnogorsk found and info added\n",
      "sao sepe found and info added\n",
      "nicoya found and info added\n",
      "tautira found and info added\n",
      "aloleng found and info added\n",
      "makakilo city found and info added\n",
      "sungairaya found and info added\n",
      "sarahan found and info added\n",
      "punta alta found and info added\n",
      "dadiangas: was not found, skipping....\n",
      "kulgam found and info added\n"
     ]
    }
   ],
   "source": [
    "#set unit\n",
    "\n",
    "unit = \"imperial\"\n",
    "url = f\"http://api.openweathermap.org/data/2.5/weather?appid={api_key}&units={unit}&q=\"\n",
    "#empty list\n",
    "temperature =[]\n",
    "humidity = []\n",
    "cloudiness = []\n",
    "windspeed = []\n",
    "lat = []\n",
    "lon = []\n",
    "foundcities = []\n",
    "country =[]\n",
    "date = []\n",
    "\n",
    "#search loop for cities list\n",
    "\n",
    "for city in cities:\n",
    "    weathercheck = requests.get(url+city).json()\n",
    "#append to lists\n",
    "    try:\n",
    "        foundcities.append(weathercheck[\"name\"])\n",
    "        temperature.append(weathercheck[\"main\"][\"temp_max\"])\n",
    "        humidity.append(weathercheck[\"main\"][\"humidity\"])\n",
    "        cloudiness.append(weathercheck[\"clouds\"][\"all\"])\n",
    "        windspeed.append(weathercheck[\"wind\"][\"speed\"])\n",
    "        lat.append(weathercheck[\"coord\"][\"lat\"])\n",
    "        lon.append(weathercheck[\"coord\"][\"lon\"])\n",
    "        country.append(weathercheck[\"sys\"][\"country\"])\n",
    "        date.append(weathercheck[\"dt\"])\n",
    "        print(f'{city} found and info added')\n",
    "    except:\n",
    "        print(f'{city}: was not found, skipping....')\n",
    "        pass\n",
    "    \n",
    "\n",
    "    "
   ]
  },
  {
   "cell_type": "markdown",
   "metadata": {},
   "source": [
    "### Convert Raw Data to DataFrame\n",
    "* Export the city data into a .csv.\n",
    "* Display the DataFrame"
   ]
  },
  {
   "cell_type": "code",
   "execution_count": 4,
   "metadata": {},
   "outputs": [
    {
     "data": {
      "text/html": [
       "<div>\n",
       "<style scoped>\n",
       "    .dataframe tbody tr th:only-of-type {\n",
       "        vertical-align: middle;\n",
       "    }\n",
       "\n",
       "    .dataframe tbody tr th {\n",
       "        vertical-align: top;\n",
       "    }\n",
       "\n",
       "    .dataframe thead th {\n",
       "        text-align: right;\n",
       "    }\n",
       "</style>\n",
       "<table border=\"1\" class=\"dataframe\">\n",
       "  <thead>\n",
       "    <tr style=\"text-align: right;\">\n",
       "      <th></th>\n",
       "      <th>City</th>\n",
       "      <th>Country</th>\n",
       "      <th>Temperature</th>\n",
       "      <th>Humidity</th>\n",
       "      <th>Cloudiness</th>\n",
       "      <th>Windspeed</th>\n",
       "      <th>Date</th>\n",
       "      <th>Longitude</th>\n",
       "      <th>Latitude</th>\n",
       "    </tr>\n",
       "  </thead>\n",
       "  <tbody>\n",
       "    <tr>\n",
       "      <th>0</th>\n",
       "      <td>Jamestown</td>\n",
       "      <td>US</td>\n",
       "      <td>69.80</td>\n",
       "      <td>56</td>\n",
       "      <td>1</td>\n",
       "      <td>11.41</td>\n",
       "      <td>1593101995</td>\n",
       "      <td>-79.24</td>\n",
       "      <td>42.10</td>\n",
       "    </tr>\n",
       "    <tr>\n",
       "      <th>1</th>\n",
       "      <td>Mineiros</td>\n",
       "      <td>BR</td>\n",
       "      <td>79.84</td>\n",
       "      <td>50</td>\n",
       "      <td>28</td>\n",
       "      <td>12.06</td>\n",
       "      <td>1593101995</td>\n",
       "      <td>-52.55</td>\n",
       "      <td>-17.57</td>\n",
       "    </tr>\n",
       "    <tr>\n",
       "      <th>2</th>\n",
       "      <td>Constantine</td>\n",
       "      <td>DZ</td>\n",
       "      <td>91.40</td>\n",
       "      <td>27</td>\n",
       "      <td>40</td>\n",
       "      <td>12.75</td>\n",
       "      <td>1593101995</td>\n",
       "      <td>6.61</td>\n",
       "      <td>36.37</td>\n",
       "    </tr>\n",
       "    <tr>\n",
       "      <th>3</th>\n",
       "      <td>Busselton</td>\n",
       "      <td>AU</td>\n",
       "      <td>54.00</td>\n",
       "      <td>66</td>\n",
       "      <td>16</td>\n",
       "      <td>10.00</td>\n",
       "      <td>1593101995</td>\n",
       "      <td>115.33</td>\n",
       "      <td>-33.65</td>\n",
       "    </tr>\n",
       "    <tr>\n",
       "      <th>4</th>\n",
       "      <td>Sooke</td>\n",
       "      <td>CA</td>\n",
       "      <td>62.01</td>\n",
       "      <td>87</td>\n",
       "      <td>20</td>\n",
       "      <td>2.15</td>\n",
       "      <td>1593101995</td>\n",
       "      <td>-123.73</td>\n",
       "      <td>48.37</td>\n",
       "    </tr>\n",
       "    <tr>\n",
       "      <th>...</th>\n",
       "      <td>...</td>\n",
       "      <td>...</td>\n",
       "      <td>...</td>\n",
       "      <td>...</td>\n",
       "      <td>...</td>\n",
       "      <td>...</td>\n",
       "      <td>...</td>\n",
       "      <td>...</td>\n",
       "      <td>...</td>\n",
       "    </tr>\n",
       "    <tr>\n",
       "      <th>572</th>\n",
       "      <td>Makakilo City</td>\n",
       "      <td>US</td>\n",
       "      <td>75.20</td>\n",
       "      <td>88</td>\n",
       "      <td>40</td>\n",
       "      <td>6.93</td>\n",
       "      <td>1593102030</td>\n",
       "      <td>-158.09</td>\n",
       "      <td>21.35</td>\n",
       "    </tr>\n",
       "    <tr>\n",
       "      <th>573</th>\n",
       "      <td>Sungai Raya</td>\n",
       "      <td>ID</td>\n",
       "      <td>77.27</td>\n",
       "      <td>84</td>\n",
       "      <td>80</td>\n",
       "      <td>0.83</td>\n",
       "      <td>1593102030</td>\n",
       "      <td>108.90</td>\n",
       "      <td>0.70</td>\n",
       "    </tr>\n",
       "    <tr>\n",
       "      <th>574</th>\n",
       "      <td>Sarāhan</td>\n",
       "      <td>IN</td>\n",
       "      <td>63.01</td>\n",
       "      <td>69</td>\n",
       "      <td>30</td>\n",
       "      <td>1.32</td>\n",
       "      <td>1593102030</td>\n",
       "      <td>77.80</td>\n",
       "      <td>31.52</td>\n",
       "    </tr>\n",
       "    <tr>\n",
       "      <th>575</th>\n",
       "      <td>Punta Alta</td>\n",
       "      <td>AR</td>\n",
       "      <td>48.54</td>\n",
       "      <td>52</td>\n",
       "      <td>0</td>\n",
       "      <td>11.68</td>\n",
       "      <td>1593102030</td>\n",
       "      <td>-62.07</td>\n",
       "      <td>-38.88</td>\n",
       "    </tr>\n",
       "    <tr>\n",
       "      <th>576</th>\n",
       "      <td>Kulgam</td>\n",
       "      <td>IN</td>\n",
       "      <td>67.26</td>\n",
       "      <td>62</td>\n",
       "      <td>24</td>\n",
       "      <td>2.98</td>\n",
       "      <td>1593102030</td>\n",
       "      <td>75.02</td>\n",
       "      <td>33.65</td>\n",
       "    </tr>\n",
       "  </tbody>\n",
       "</table>\n",
       "<p>577 rows × 9 columns</p>\n",
       "</div>"
      ],
      "text/plain": [
       "              City Country  Temperature  Humidity  Cloudiness  Windspeed  \\\n",
       "0        Jamestown      US        69.80        56           1      11.41   \n",
       "1         Mineiros      BR        79.84        50          28      12.06   \n",
       "2      Constantine      DZ        91.40        27          40      12.75   \n",
       "3        Busselton      AU        54.00        66          16      10.00   \n",
       "4            Sooke      CA        62.01        87          20       2.15   \n",
       "..             ...     ...          ...       ...         ...        ...   \n",
       "572  Makakilo City      US        75.20        88          40       6.93   \n",
       "573    Sungai Raya      ID        77.27        84          80       0.83   \n",
       "574        Sarāhan      IN        63.01        69          30       1.32   \n",
       "575     Punta Alta      AR        48.54        52           0      11.68   \n",
       "576         Kulgam      IN        67.26        62          24       2.98   \n",
       "\n",
       "           Date  Longitude  Latitude  \n",
       "0    1593101995     -79.24     42.10  \n",
       "1    1593101995     -52.55    -17.57  \n",
       "2    1593101995       6.61     36.37  \n",
       "3    1593101995     115.33    -33.65  \n",
       "4    1593101995    -123.73     48.37  \n",
       "..          ...        ...       ...  \n",
       "572  1593102030    -158.09     21.35  \n",
       "573  1593102030     108.90      0.70  \n",
       "574  1593102030      77.80     31.52  \n",
       "575  1593102030     -62.07    -38.88  \n",
       "576  1593102030      75.02     33.65  \n",
       "\n",
       "[577 rows x 9 columns]"
      ]
     },
     "execution_count": 4,
     "metadata": {},
     "output_type": "execute_result"
    }
   ],
   "source": [
    "#create dataframe from list\n",
    "weather_df = pd.DataFrame({\"City\": foundcities,\n",
    "                               \"Country\": country,\n",
    "                                \"Temperature\": temperature,\n",
    "                                \"Humidity\": humidity,\n",
    "                                \"Cloudiness\": cloudiness,\n",
    "                                \"Windspeed\":windspeed,\n",
    "                                \"Date\": date,\n",
    "                                \"Longitude\": lon,\n",
    "                                \"Latitude\": lat})\n",
    "weather_df\n"
   ]
  },
  {
   "cell_type": "code",
   "execution_count": 5,
   "metadata": {},
   "outputs": [],
   "source": [
    "weather_df.to_csv(r'/Users/applewang/Desktop/github/api_challenge/cityweather.csv' , index=False)\n",
    "\n"
   ]
  },
  {
   "cell_type": "markdown",
   "metadata": {},
   "source": [
    "## Inspect the data and remove the cities where the humidity > 100%.\n",
    "----\n",
    "Skip this step if there are no cities that have humidity > 100%. "
   ]
  },
  {
   "cell_type": "code",
   "execution_count": 6,
   "metadata": {},
   "outputs": [],
   "source": [
    "toohumid = weather_df.loc[weather_df[\"Humidity\"]>100]\n"
   ]
  },
  {
   "cell_type": "code",
   "execution_count": 7,
   "metadata": {},
   "outputs": [
    {
     "name": "stdout",
     "output_type": "stream",
     "text": [
      "0\n"
     ]
    }
   ],
   "source": [
    "#  Get the indices of cities that have humidity over 100%.\n",
    "print(len(toohumid))"
   ]
  },
  {
   "cell_type": "code",
   "execution_count": 8,
   "metadata": {},
   "outputs": [
    {
     "data": {
      "text/html": [
       "<div>\n",
       "<style scoped>\n",
       "    .dataframe tbody tr th:only-of-type {\n",
       "        vertical-align: middle;\n",
       "    }\n",
       "\n",
       "    .dataframe tbody tr th {\n",
       "        vertical-align: top;\n",
       "    }\n",
       "\n",
       "    .dataframe thead th {\n",
       "        text-align: right;\n",
       "    }\n",
       "</style>\n",
       "<table border=\"1\" class=\"dataframe\">\n",
       "  <thead>\n",
       "    <tr style=\"text-align: right;\">\n",
       "      <th></th>\n",
       "      <th>City</th>\n",
       "      <th>Latitude</th>\n",
       "      <th>Temperature</th>\n",
       "      <th>Humidity</th>\n",
       "      <th>Cloudiness</th>\n",
       "      <th>Windspeed</th>\n",
       "    </tr>\n",
       "  </thead>\n",
       "  <tbody>\n",
       "    <tr>\n",
       "      <th>0</th>\n",
       "      <td>Jamestown</td>\n",
       "      <td>42.10</td>\n",
       "      <td>69.80</td>\n",
       "      <td>56</td>\n",
       "      <td>1</td>\n",
       "      <td>11.41</td>\n",
       "    </tr>\n",
       "    <tr>\n",
       "      <th>1</th>\n",
       "      <td>Mineiros</td>\n",
       "      <td>-17.57</td>\n",
       "      <td>79.84</td>\n",
       "      <td>50</td>\n",
       "      <td>28</td>\n",
       "      <td>12.06</td>\n",
       "    </tr>\n",
       "    <tr>\n",
       "      <th>2</th>\n",
       "      <td>Constantine</td>\n",
       "      <td>36.37</td>\n",
       "      <td>91.40</td>\n",
       "      <td>27</td>\n",
       "      <td>40</td>\n",
       "      <td>12.75</td>\n",
       "    </tr>\n",
       "    <tr>\n",
       "      <th>3</th>\n",
       "      <td>Busselton</td>\n",
       "      <td>-33.65</td>\n",
       "      <td>54.00</td>\n",
       "      <td>66</td>\n",
       "      <td>16</td>\n",
       "      <td>10.00</td>\n",
       "    </tr>\n",
       "    <tr>\n",
       "      <th>4</th>\n",
       "      <td>Sooke</td>\n",
       "      <td>48.37</td>\n",
       "      <td>62.01</td>\n",
       "      <td>87</td>\n",
       "      <td>20</td>\n",
       "      <td>2.15</td>\n",
       "    </tr>\n",
       "  </tbody>\n",
       "</table>\n",
       "</div>"
      ],
      "text/plain": [
       "          City  Latitude  Temperature  Humidity  Cloudiness  Windspeed\n",
       "0    Jamestown     42.10        69.80        56           1      11.41\n",
       "1     Mineiros    -17.57        79.84        50          28      12.06\n",
       "2  Constantine     36.37        91.40        27          40      12.75\n",
       "3    Busselton    -33.65        54.00        66          16      10.00\n",
       "4        Sooke     48.37        62.01        87          20       2.15"
      ]
     },
     "execution_count": 8,
     "metadata": {},
     "output_type": "execute_result"
    }
   ],
   "source": [
    "# Extract relevant fields from the data frame\n",
    "plotdata = weather_df[[\"City\",\"Latitude\",\"Temperature\",\"Humidity\",\"Cloudiness\",\"Windspeed\"]]\n",
    "\n",
    "# Export the City_Data into a csv\n",
    "plotdata.to_csv(r'/Users/applewang/Desktop/github/api_challenge/plotdata.csv' , index=False)\n",
    "\n",
    "plotdata.head()\n"
   ]
  },
  {
   "cell_type": "markdown",
   "metadata": {},
   "source": [
    "## Plotting the Data\n",
    "* Use proper labeling of the plots using plot titles (including date of analysis) and axes labels.\n",
    "* Save the plotted figures as .pngs."
   ]
  },
  {
   "cell_type": "markdown",
   "metadata": {},
   "source": [
    "## Latitude vs. Temperature Plot"
   ]
  },
  {
   "cell_type": "code",
   "execution_count": 14,
   "metadata": {
    "scrolled": false
   },
   "outputs": [
    {
     "data": {
      "image/png": "[encoded data removed]",
      "text/plain": [
       "<Figure size 432x288 with 1 Axes>"
      ]
     },
     "metadata": {
      "needs_background": "light"
     },
     "output_type": "display_data"
    }
   ],
   "source": [
    "x_latitude = plotdata[\"Latitude\"]\n",
    "y_termperature = plotdata[\"Temperature\"]\n",
    "plt.scatter(x_latitude,y_termperature)\n",
    "\n",
    "plt.xlabel(\"Latitude\")\n",
    "plt.ylabel(\"Temperature F\")\n",
    "plt.title('Latitude vs Termperature')\n",
    "\n",
    "plt.savefig(\"/Users/applewang/Desktop/github/api_challenge/latitude_vs_temperature.png\")\n"
   ]
  },
  {
   "cell_type": "markdown",
   "metadata": {},
   "source": [
    "## Latitude vs. Humidity Plot"
   ]
  },
  {
   "cell_type": "code",
   "execution_count": 11,
   "metadata": {},
   "outputs": [
    {
     "data": {
      "image/png": "[encoded data removed]",
      "text/plain": [
       "<Figure size 432x288 with 1 Axes>"
      ]
     },
     "metadata": {
      "needs_background": "light"
     },
     "output_type": "display_data"
    }
   ],
   "source": [
    "y_humidity = plotdata[\"Humidity\"]\n",
    "plt.scatter(x_latitude,y_humidity)\n",
    "\n",
    "plt.xlabel('Latitude')\n",
    "plt.ylabel('Humidity (%)')\n",
    "plt.title('Latitude vs. Humidity')\n",
    "plt.grid()\n",
    "\n",
    "plt.savefig(\"/Users/applewang/Desktop/github/api_challenge/latitude_vs_humidity.png\")\n"
   ]
  },
  {
   "cell_type": "markdown",
   "metadata": {},
   "source": [
    "## Latitude vs. Cloudiness Plot"
   ]
  },
  {
   "cell_type": "code",
   "execution_count": 38,
   "metadata": {},
   "outputs": [
    {
     "data": {
      "image/png": "[encoded data removed]",
      "text/plain": [
       "<Figure size 432x288 with 1 Axes>"
      ]
     },
     "metadata": {
      "needs_background": "light"
     },
     "output_type": "display_data"
    }
   ],
   "source": [
    "y_cloudiness = plotdata[\"Cloudiness\"]\n",
    "plt.scatter(x_latitude,y_cloudiness)\n",
    "plt.xlabel('Latitude')\n",
    "plt.ylabel('Cloudiness (%)')\n",
    "plt.title('Latitude vs. Cloudiness')\n",
    "plt.grid()\n",
    "\n",
    "plt.savefig(\"/Users/applewang/Desktop/github/api_challenge/latitude_vs_cloudiness.png\")\n",
    "\n"
   ]
  },
  {
   "cell_type": "markdown",
   "metadata": {},
   "source": [
    "## Latitude vs. Wind Speed Plot"
   ]
  },
  {
   "cell_type": "code",
   "execution_count": 41,
   "metadata": {},
   "outputs": [
    {
     "data": {
      "image/png": "[encoded data removed]",
      "text/plain": [
       "<Figure size 432x288 with 1 Axes>"
      ]
     },
     "metadata": {
      "needs_background": "light"
     },
     "output_type": "display_data"
    }
   ],
   "source": [
    "y_windspeed = plotdata[\"Windspeed\"]\n",
    "plt.scatter(x_latitude,y_windspeed)\n",
    "plt.xlabel('Latitude')\n",
    "plt.ylabel('Wind Speed (MPH)')\n",
    "plt.title('Latitude vs. Wind Speed')\n",
    "plt.grid()\n",
    "\n",
    "plt.savefig(\"/Users/applewang/Desktop/github/api_challenge/latitude_vs_windspeed.png\")\n",
    "\n"
   ]
  },
  {
   "cell_type": "markdown",
   "metadata": {},
   "source": [
    "## Linear Regression"
   ]
  },
  {
   "cell_type": "code",
   "execution_count": 7,
   "metadata": {},
   "outputs": [],
   "source": [
    "# OPTIONAL: Create a function to create Linear Regression plots"
   ]
  },
  {
   "cell_type": "code",
   "execution_count": 16,
   "metadata": {},
   "outputs": [
    {
     "data": {
      "text/html": [
       "<div>\n",
       "<style scoped>\n",
       "    .dataframe tbody tr th:only-of-type {\n",
       "        vertical-align: middle;\n",
       "    }\n",
       "\n",
       "    .dataframe tbody tr th {\n",
       "        vertical-align: top;\n",
       "    }\n",
       "\n",
       "    .dataframe thead th {\n",
       "        text-align: right;\n",
       "    }\n",
       "</style>\n",
       "<table border=\"1\" class=\"dataframe\">\n",
       "  <thead>\n",
       "    <tr style=\"text-align: right;\">\n",
       "      <th></th>\n",
       "      <th>City</th>\n",
       "      <th>Latitude</th>\n",
       "      <th>Temperature</th>\n",
       "      <th>Humidity</th>\n",
       "      <th>Cloudiness</th>\n",
       "      <th>Windspeed</th>\n",
       "    </tr>\n",
       "  </thead>\n",
       "  <tbody>\n",
       "    <tr>\n",
       "      <th>0</th>\n",
       "      <td>Jamestown</td>\n",
       "      <td>42.10</td>\n",
       "      <td>69.80</td>\n",
       "      <td>56</td>\n",
       "      <td>1</td>\n",
       "      <td>11.41</td>\n",
       "    </tr>\n",
       "    <tr>\n",
       "      <th>2</th>\n",
       "      <td>Constantine</td>\n",
       "      <td>36.37</td>\n",
       "      <td>91.40</td>\n",
       "      <td>27</td>\n",
       "      <td>40</td>\n",
       "      <td>12.75</td>\n",
       "    </tr>\n",
       "    <tr>\n",
       "      <th>4</th>\n",
       "      <td>Sooke</td>\n",
       "      <td>48.37</td>\n",
       "      <td>62.01</td>\n",
       "      <td>87</td>\n",
       "      <td>20</td>\n",
       "      <td>2.15</td>\n",
       "    </tr>\n",
       "    <tr>\n",
       "      <th>8</th>\n",
       "      <td>Saint Paul Harbor</td>\n",
       "      <td>57.79</td>\n",
       "      <td>50.00</td>\n",
       "      <td>87</td>\n",
       "      <td>90</td>\n",
       "      <td>16.11</td>\n",
       "    </tr>\n",
       "    <tr>\n",
       "      <th>9</th>\n",
       "      <td>Uyemskiy</td>\n",
       "      <td>64.47</td>\n",
       "      <td>62.60</td>\n",
       "      <td>51</td>\n",
       "      <td>20</td>\n",
       "      <td>11.18</td>\n",
       "    </tr>\n",
       "    <tr>\n",
       "      <th>...</th>\n",
       "      <td>...</td>\n",
       "      <td>...</td>\n",
       "      <td>...</td>\n",
       "      <td>...</td>\n",
       "      <td>...</td>\n",
       "      <td>...</td>\n",
       "    </tr>\n",
       "    <tr>\n",
       "      <th>571</th>\n",
       "      <td>Aloleng</td>\n",
       "      <td>16.13</td>\n",
       "      <td>80.24</td>\n",
       "      <td>87</td>\n",
       "      <td>100</td>\n",
       "      <td>9.28</td>\n",
       "    </tr>\n",
       "    <tr>\n",
       "      <th>572</th>\n",
       "      <td>Makakilo City</td>\n",
       "      <td>21.35</td>\n",
       "      <td>75.20</td>\n",
       "      <td>88</td>\n",
       "      <td>40</td>\n",
       "      <td>6.93</td>\n",
       "    </tr>\n",
       "    <tr>\n",
       "      <th>573</th>\n",
       "      <td>Sungai Raya</td>\n",
       "      <td>0.70</td>\n",
       "      <td>77.27</td>\n",
       "      <td>84</td>\n",
       "      <td>80</td>\n",
       "      <td>0.83</td>\n",
       "    </tr>\n",
       "    <tr>\n",
       "      <th>574</th>\n",
       "      <td>Sarāhan</td>\n",
       "      <td>31.52</td>\n",
       "      <td>63.01</td>\n",
       "      <td>69</td>\n",
       "      <td>30</td>\n",
       "      <td>1.32</td>\n",
       "    </tr>\n",
       "    <tr>\n",
       "      <th>576</th>\n",
       "      <td>Kulgam</td>\n",
       "      <td>33.65</td>\n",
       "      <td>67.26</td>\n",
       "      <td>62</td>\n",
       "      <td>24</td>\n",
       "      <td>2.98</td>\n",
       "    </tr>\n",
       "  </tbody>\n",
       "</table>\n",
       "<p>405 rows × 6 columns</p>\n",
       "</div>"
      ],
      "text/plain": [
       "                  City  Latitude  Temperature  Humidity  Cloudiness  Windspeed\n",
       "0            Jamestown     42.10        69.80        56           1      11.41\n",
       "2          Constantine     36.37        91.40        27          40      12.75\n",
       "4                Sooke     48.37        62.01        87          20       2.15\n",
       "8    Saint Paul Harbor     57.79        50.00        87          90      16.11\n",
       "9             Uyemskiy     64.47        62.60        51          20      11.18\n",
       "..                 ...       ...          ...       ...         ...        ...\n",
       "571            Aloleng     16.13        80.24        87         100       9.28\n",
       "572      Makakilo City     21.35        75.20        88          40       6.93\n",
       "573        Sungai Raya      0.70        77.27        84          80       0.83\n",
       "574            Sarāhan     31.52        63.01        69          30       1.32\n",
       "576             Kulgam     33.65        67.26        62          24       2.98\n",
       "\n",
       "[405 rows x 6 columns]"
      ]
     },
     "execution_count": 16,
     "metadata": {},
     "output_type": "execute_result"
    }
   ],
   "source": [
    "# Create Northern and Southern Hemisphere DataFrames\n",
    "northern = plotdata[plotdata[\"Latitude\"]>= 0]\n",
    "southern = plotdata[plotdata[\"Latitude\"]<0]\n",
    "\n",
    "northern\n",
    "                    "
   ]
  },
  {
   "cell_type": "code",
   "execution_count": 17,
   "metadata": {},
   "outputs": [
    {
     "data": {
      "text/html": [
       "<div>\n",
       "<style scoped>\n",
       "    .dataframe tbody tr th:only-of-type {\n",
       "        vertical-align: middle;\n",
       "    }\n",
       "\n",
       "    .dataframe tbody tr th {\n",
       "        vertical-align: top;\n",
       "    }\n",
       "\n",
       "    .dataframe thead th {\n",
       "        text-align: right;\n",
       "    }\n",
       "</style>\n",
       "<table border=\"1\" class=\"dataframe\">\n",
       "  <thead>\n",
       "    <tr style=\"text-align: right;\">\n",
       "      <th></th>\n",
       "      <th>City</th>\n",
       "      <th>Latitude</th>\n",
       "      <th>Temperature</th>\n",
       "      <th>Humidity</th>\n",
       "      <th>Cloudiness</th>\n",
       "      <th>Windspeed</th>\n",
       "    </tr>\n",
       "  </thead>\n",
       "  <tbody>\n",
       "    <tr>\n",
       "      <th>1</th>\n",
       "      <td>Mineiros</td>\n",
       "      <td>-17.57</td>\n",
       "      <td>79.84</td>\n",
       "      <td>50</td>\n",
       "      <td>28</td>\n",
       "      <td>12.06</td>\n",
       "    </tr>\n",
       "    <tr>\n",
       "      <th>3</th>\n",
       "      <td>Busselton</td>\n",
       "      <td>-33.65</td>\n",
       "      <td>54.00</td>\n",
       "      <td>66</td>\n",
       "      <td>16</td>\n",
       "      <td>10.00</td>\n",
       "    </tr>\n",
       "    <tr>\n",
       "      <th>5</th>\n",
       "      <td>Vaini</td>\n",
       "      <td>-21.20</td>\n",
       "      <td>71.60</td>\n",
       "      <td>88</td>\n",
       "      <td>40</td>\n",
       "      <td>4.70</td>\n",
       "    </tr>\n",
       "    <tr>\n",
       "      <th>6</th>\n",
       "      <td>Cape Town</td>\n",
       "      <td>-33.93</td>\n",
       "      <td>62.01</td>\n",
       "      <td>82</td>\n",
       "      <td>90</td>\n",
       "      <td>17.22</td>\n",
       "    </tr>\n",
       "    <tr>\n",
       "      <th>7</th>\n",
       "      <td>Hermanus</td>\n",
       "      <td>-34.42</td>\n",
       "      <td>64.99</td>\n",
       "      <td>57</td>\n",
       "      <td>0</td>\n",
       "      <td>1.99</td>\n",
       "    </tr>\n",
       "    <tr>\n",
       "      <th>...</th>\n",
       "      <td>...</td>\n",
       "      <td>...</td>\n",
       "      <td>...</td>\n",
       "      <td>...</td>\n",
       "      <td>...</td>\n",
       "      <td>...</td>\n",
       "    </tr>\n",
       "    <tr>\n",
       "      <th>561</th>\n",
       "      <td>Port-Gentil</td>\n",
       "      <td>-0.72</td>\n",
       "      <td>77.00</td>\n",
       "      <td>78</td>\n",
       "      <td>90</td>\n",
       "      <td>11.41</td>\n",
       "    </tr>\n",
       "    <tr>\n",
       "      <th>565</th>\n",
       "      <td>Daru</td>\n",
       "      <td>-9.08</td>\n",
       "      <td>78.85</td>\n",
       "      <td>86</td>\n",
       "      <td>84</td>\n",
       "      <td>15.82</td>\n",
       "    </tr>\n",
       "    <tr>\n",
       "      <th>568</th>\n",
       "      <td>São Sepé</td>\n",
       "      <td>-30.16</td>\n",
       "      <td>60.80</td>\n",
       "      <td>93</td>\n",
       "      <td>75</td>\n",
       "      <td>10.29</td>\n",
       "    </tr>\n",
       "    <tr>\n",
       "      <th>570</th>\n",
       "      <td>Tautira</td>\n",
       "      <td>-17.73</td>\n",
       "      <td>77.00</td>\n",
       "      <td>88</td>\n",
       "      <td>20</td>\n",
       "      <td>17.22</td>\n",
       "    </tr>\n",
       "    <tr>\n",
       "      <th>575</th>\n",
       "      <td>Punta Alta</td>\n",
       "      <td>-38.88</td>\n",
       "      <td>48.54</td>\n",
       "      <td>52</td>\n",
       "      <td>0</td>\n",
       "      <td>11.68</td>\n",
       "    </tr>\n",
       "  </tbody>\n",
       "</table>\n",
       "<p>172 rows × 6 columns</p>\n",
       "</div>"
      ],
      "text/plain": [
       "            City  Latitude  Temperature  Humidity  Cloudiness  Windspeed\n",
       "1       Mineiros    -17.57        79.84        50          28      12.06\n",
       "3      Busselton    -33.65        54.00        66          16      10.00\n",
       "5          Vaini    -21.20        71.60        88          40       4.70\n",
       "6      Cape Town    -33.93        62.01        82          90      17.22\n",
       "7       Hermanus    -34.42        64.99        57           0       1.99\n",
       "..           ...       ...          ...       ...         ...        ...\n",
       "561  Port-Gentil     -0.72        77.00        78          90      11.41\n",
       "565         Daru     -9.08        78.85        86          84      15.82\n",
       "568     São Sepé    -30.16        60.80        93          75      10.29\n",
       "570      Tautira    -17.73        77.00        88          20      17.22\n",
       "575   Punta Alta    -38.88        48.54        52           0      11.68\n",
       "\n",
       "[172 rows x 6 columns]"
      ]
     },
     "execution_count": 17,
     "metadata": {},
     "output_type": "execute_result"
    }
   ],
   "source": [
    "southern"
   ]
  },
  {
   "cell_type": "markdown",
   "metadata": {},
   "source": [
    "####  Northern Hemisphere - Max Temp vs. Latitude Linear Regression"
   ]
  },
  {
   "cell_type": "code",
   "execution_count": 18,
   "metadata": {},
   "outputs": [
    {
     "data": {
      "image/png": "[encoded data removed]",
      "text/plain": [
       "<Figure size 432x288 with 1 Axes>"
      ]
     },
     "metadata": {
      "needs_background": "light"
     },
     "output_type": "display_data"
    },
    {
     "data": {
      "text/plain": [
       "<Figure size 432x288 with 0 Axes>"
      ]
     },
     "metadata": {},
     "output_type": "display_data"
    }
   ],
   "source": [
    "x_north = northern[\"Latitude\"]\n",
    "y_north_temp = northern[\"Temperature\"]\n",
    "\n",
    "plt.scatter(x_north,y_north_temp)\n",
    "\n",
    "plt.title('Northern_latitude vs temperature')\n",
    "\n",
    "(slope, intercept, rvalue, pvalue, stderr) = linregress(x_north,y_north_temp)\n",
    "regress_values = x_north * slope + intercept\n",
    "line_eq = \"y = \" + str(round(slope,2)) + \"x + \" + str(round(intercept,2))\n",
    "\n",
    "plt.plot(x_north,regress_values,\"r-\")\n",
    "plt.annotate(line_eq,(6,10),fontsize=15,color=\"red\")\n",
    "plt.xlabel('northern latitude')\n",
    "plt.ylabel('north temperature')\n",
    "plt.show()\n",
    "plt.savefig(\"/Users/applewang/Desktop/github/api_challenge/Northernlatitude_vs_temperature.png\")"
   ]
  },
  {
   "cell_type": "code",
   "execution_count": 19,
   "metadata": {},
   "outputs": [],
   "source": [
    "#this regression shows that the closer to the equator, the hotter it gets"
   ]
  },
  {
   "cell_type": "markdown",
   "metadata": {},
   "source": [
    "####  Southern Hemisphere - Max Temp vs. Latitude Linear Regression"
   ]
  },
  {
   "cell_type": "code",
   "execution_count": 20,
   "metadata": {},
   "outputs": [
    {
     "data": {
      "image/png": "[encoded data removed]",
      "text/plain": [
       "<Figure size 432x288 with 1 Axes>"
      ]
     },
     "metadata": {
      "needs_background": "light"
     },
     "output_type": "display_data"
    },
    {
     "data": {
      "text/plain": [
       "<Figure size 432x288 with 0 Axes>"
      ]
     },
     "metadata": {},
     "output_type": "display_data"
    }
   ],
   "source": [
    "x_south = southern[\"Latitude\"]\n",
    "y_south_temp = southern[\"Temperature\"]\n",
    "\n",
    "plt.scatter(x_south,y_south_temp)\n",
    "\n",
    "plt.title('south_latitude vs south temperature')\n",
    "\n",
    "(slope, intercept, rvalue, pvalue, stderr) = linregress(x_south,y_south_temp)\n",
    "regress_values = x_south * slope + intercept\n",
    "line_eq = \"y = \" + str(round(slope,2)) + \"x + \" + str(round(intercept,2))\n",
    "\n",
    "plt.plot(x_south,regress_values,\"r-\")\n",
    "plt.annotate(line_eq,(6,10),fontsize=15,color=\"red\")\n",
    "plt.xlabel('southern latitude')\n",
    "plt.ylabel('southern temperature')\n",
    "plt.show()\n",
    "plt.savefig(\"/Users/applewang/Desktop/github/api_challenge/Southernlatitude_vs_temperature.png\")\n"
   ]
  },
  {
   "cell_type": "code",
   "execution_count": null,
   "metadata": {},
   "outputs": [],
   "source": []
  },
  {
   "cell_type": "markdown",
   "metadata": {},
   "source": [
    "####  Northern Hemisphere - Humidity (%) vs. Latitude Linear Regression"
   ]
  },
  {
   "cell_type": "code",
   "execution_count": 21,
   "metadata": {},
   "outputs": [
    {
     "data": {
      "image/png": "[encoded data removed]",
      "text/plain": [
       "<Figure size 432x288 with 1 Axes>"
      ]
     },
     "metadata": {
      "needs_background": "light"
     },
     "output_type": "display_data"
    },
    {
     "data": {
      "text/plain": [
       "<Figure size 432x288 with 0 Axes>"
      ]
     },
     "metadata": {},
     "output_type": "display_data"
    }
   ],
   "source": [
    "x_north = northern[\"Latitude\"]\n",
    "y_north_hum = northern[\"Humidity\"]\n",
    "\n",
    "plt.scatter(x_north,y_north_hum)\n",
    "\n",
    "plt.title('Northern_latitude vs humidity')\n",
    "\n",
    "(slope, intercept, rvalue, pvalue, stderr) = linregress(x_north,y_north_hum)\n",
    "regress_values = x_north * slope + intercept\n",
    "line_eq = \"y = \" + str(round(slope,2)) + \"x + \" + str(round(intercept,2))\n",
    "\n",
    "plt.plot(x_north,regress_values,\"r-\")\n",
    "plt.annotate(line_eq,(6,10),fontsize=15,color=\"red\")\n",
    "plt.xlabel('northern latitude')\n",
    "plt.ylabel('north humidity')\n",
    "plt.show()\n",
    "plt.savefig(\"/Users/applewang/Desktop/github/api_challenge/Northernlatitude_vs_humidity.png\")"
   ]
  },
  {
   "cell_type": "code",
   "execution_count": null,
   "metadata": {},
   "outputs": [],
   "source": [
    "#this regression shows that there seems to not have correlation between humidity and latitude in this dataset. \n",
    "#the humidity has to be related to other factorsoutside this dataset"
   ]
  },
  {
   "cell_type": "markdown",
   "metadata": {},
   "source": [
    "####  Southern Hemisphere - Humidity (%) vs. Latitude Linear Regression"
   ]
  },
  {
   "cell_type": "code",
   "execution_count": 22,
   "metadata": {},
   "outputs": [
    {
     "data": {
      "image/png": "[encoded data removed]",
      "text/plain": [
       "<Figure size 432x288 with 1 Axes>"
      ]
     },
     "metadata": {
      "needs_background": "light"
     },
     "output_type": "display_data"
    },
    {
     "data": {
      "text/plain": [
       "<Figure size 432x288 with 0 Axes>"
      ]
     },
     "metadata": {},
     "output_type": "display_data"
    }
   ],
   "source": [
    "x_south = southern[\"Latitude\"]\n",
    "y_south_hum = southern[\"Humidity\"]\n",
    "\n",
    "plt.scatter(x_south,y_south_hum)\n",
    "\n",
    "plt.title('south_latitude vs south humidity')\n",
    "\n",
    "(slope, intercept, rvalue, pvalue, stderr) = linregress(x_south,y_south_hum)\n",
    "regress_values = x_south * slope + intercept\n",
    "line_eq = \"y = \" + str(round(slope,2)) + \"x + \" + str(round(intercept,2))\n",
    "\n",
    "plt.plot(x_south,regress_values,\"r-\")\n",
    "plt.annotate(line_eq,(6,10),fontsize=15,color=\"red\")\n",
    "plt.xlabel('southern latitude')\n",
    "plt.ylabel('southern humidity')\n",
    "plt.show()\n",
    "plt.savefig(\"/Users/applewang/Desktop/github/api_challenge/Southernlatitude_vs_humidity.png\")"
   ]
  },
  {
   "cell_type": "code",
   "execution_count": null,
   "metadata": {},
   "outputs": [],
   "source": []
  },
  {
   "cell_type": "markdown",
   "metadata": {},
   "source": [
    "####  Northern Hemisphere - Cloudiness (%) vs. Latitude Linear Regression"
   ]
  },
  {
   "cell_type": "code",
   "execution_count": 23,
   "metadata": {},
   "outputs": [
    {
     "data": {
      "image/png": "[encoded data removed]",
      "text/plain": [
       "<Figure size 432x288 with 1 Axes>"
      ]
     },
     "metadata": {
      "needs_background": "light"
     },
     "output_type": "display_data"
    },
    {
     "data": {
      "text/plain": [
       "<Figure size 432x288 with 0 Axes>"
      ]
     },
     "metadata": {},
     "output_type": "display_data"
    }
   ],
   "source": [
    "x_north = northern[\"Latitude\"]\n",
    "y_north_cloud = northern[\"Cloudiness\"]\n",
    "\n",
    "plt.scatter(x_north,y_north_cloud)\n",
    "\n",
    "plt.title('Northern_latitude vs cloudiness')\n",
    "\n",
    "(slope, intercept, rvalue, pvalue, stderr) = linregress(x_north,y_north_cloud)\n",
    "regress_values = x_north * slope + intercept\n",
    "line_eq = \"y = \" + str(round(slope,2)) + \"x + \" + str(round(intercept,2))\n",
    "\n",
    "plt.plot(x_north,regress_values,\"r-\")\n",
    "plt.annotate(line_eq,(6,10),fontsize=15,color=\"red\")\n",
    "plt.xlabel('northern latitude')\n",
    "plt.ylabel('north cloudiness')\n",
    "plt.show()\n",
    "plt.savefig(\"/Users/applewang/Desktop/github/api_challenge/Northernlatitude_vs_cloudiness.png\")"
   ]
  },
  {
   "cell_type": "markdown",
   "metadata": {},
   "source": [
    "####  Southern Hemisphere - Cloudiness (%) vs. Latitude Linear Regression"
   ]
  },
  {
   "cell_type": "code",
   "execution_count": 24,
   "metadata": {},
   "outputs": [
    {
     "data": {
      "image/png": "[encoded data removed]",
      "text/plain": [
       "<Figure size 432x288 with 1 Axes>"
      ]
     },
     "metadata": {
      "needs_background": "light"
     },
     "output_type": "display_data"
    },
    {
     "data": {
      "text/plain": [
       "<Figure size 432x288 with 0 Axes>"
      ]
     },
     "metadata": {},
     "output_type": "display_data"
    }
   ],
   "source": [
    "x_south = southern[\"Latitude\"]\n",
    "y_south_cloud = southern[\"Cloudiness\"]\n",
    "\n",
    "plt.scatter(x_south,y_south_cloud)\n",
    "\n",
    "plt.title('south_latitude vs south cloudiness')\n",
    "\n",
    "(slope, intercept, rvalue, pvalue, stderr) = linregress(x_south,y_south_cloud)\n",
    "regress_values = x_south * slope + intercept\n",
    "line_eq = \"y = \" + str(round(slope,2)) + \"x + \" + str(round(intercept,2))\n",
    "\n",
    "plt.plot(x_south,regress_values,\"r-\")\n",
    "plt.annotate(line_eq,(6,10),fontsize=15,color=\"red\")\n",
    "plt.xlabel('southern latitude')\n",
    "plt.ylabel('southern cloudiness')\n",
    "plt.show()\n",
    "plt.savefig(\"/Users/applewang/Desktop/github/api_challenge/Southernlatitude_vs_cloudiness.png\")"
   ]
  },
  {
   "cell_type": "markdown",
   "metadata": {},
   "source": [
    "####  Northern Hemisphere - Wind Speed (mph) vs. Latitude Linear Regression"
   ]
  },
  {
   "cell_type": "code",
   "execution_count": 25,
   "metadata": {},
   "outputs": [
    {
     "data": {
      "image/png": "[encoded data removed]",
      "text/plain": [
       "<Figure size 432x288 with 1 Axes>"
      ]
     },
     "metadata": {
      "needs_background": "light"
     },
     "output_type": "display_data"
    },
    {
     "data": {
      "text/plain": [
       "<Figure size 432x288 with 0 Axes>"
      ]
     },
     "metadata": {},
     "output_type": "display_data"
    }
   ],
   "source": [
    "x_north = northern[\"Latitude\"]\n",
    "y_north_wind = northern[\"Windspeed\"]\n",
    "\n",
    "plt.scatter(x_north,y_north_wind)\n",
    "\n",
    "plt.title('Northern_latitude vs windspeed')\n",
    "\n",
    "(slope, intercept, rvalue, pvalue, stderr) = linregress(x_north,y_north_wind)\n",
    "regress_values = x_north * slope + intercept\n",
    "line_eq = \"y = \" + str(round(slope,2)) + \"x + \" + str(round(intercept,2))\n",
    "\n",
    "plt.plot(x_north,regress_values,\"r-\")\n",
    "plt.annotate(line_eq,(6,10),fontsize=15,color=\"red\")\n",
    "plt.xlabel('northern latitude')\n",
    "plt.ylabel('north windspeed')\n",
    "plt.show()\n",
    "plt.savefig(\"/Users/applewang/Desktop/github/api_challenge/Northernlatitude_vs_windspeed.png\")"
   ]
  },
  {
   "cell_type": "markdown",
   "metadata": {},
   "source": [
    "####  Southern Hemisphere - Wind Speed (mph) vs. Latitude Linear Regression"
   ]
  },
  {
   "cell_type": "code",
   "execution_count": 26,
   "metadata": {},
   "outputs": [
    {
     "data": {
      "image/png": "[encoded data removed]",
      "text/plain": [
       "<Figure size 432x288 with 1 Axes>"
      ]
     },
     "metadata": {
      "needs_background": "light"
     },
     "output_type": "display_data"
    },
    {
     "data": {
      "text/plain": [
       "<Figure size 432x288 with 0 Axes>"
      ]
     },
     "metadata": {},
     "output_type": "display_data"
    }
   ],
   "source": [
    "x_south = southern[\"Latitude\"]\n",
    "y_south_wind = southern[\"Windspeed\"]\n",
    "\n",
    "plt.scatter(x_south,y_south_wind)\n",
    "\n",
    "plt.title('south_latitude vs south cloudiness')\n",
    "\n",
    "(slope, intercept, rvalue, pvalue, stderr) = linregress(x_south,y_south_wind)\n",
    "regress_values = x_south * slope + intercept\n",
    "line_eq = \"y = \" + str(round(slope,2)) + \"x + \" + str(round(intercept,2))\n",
    "\n",
    "plt.plot(x_south,regress_values,\"r-\")\n",
    "plt.annotate(line_eq,(6,10),fontsize=15,color=\"red\")\n",
    "plt.xlabel('southern latitude')\n",
    "plt.ylabel('southern windspeed')\n",
    "plt.show()\n",
    "plt.savefig(\"/Users/applewang/Desktop/github/api_challenge/Southernlatitude_vs_cloudiness.png\")\n"
   ]
  },
  {
   "cell_type": "code",
   "execution_count": null,
   "metadata": {},
   "outputs": [],
   "source": []
  }
 ],
 "metadata": {
  "anaconda-cloud": {},
  "kernel_info": {
   "name": "python3"
  },
  "kernelspec": {
   "display_name": "Python 3",
   "language": "python",
   "name": "python3"
  },
  "language_info": {
   "codemirror_mode": {
    "name": "ipython",
    "version": 3
   },
   "file_extension": ".py",
   "mimetype": "text/x-python",
   "name": "python",
   "nbconvert_exporter": "python",
   "pygments_lexer": "ipython3",
   "version": "3.7.6"
  },
  "latex_envs": {
   "LaTeX_envs_menu_present": true,
   "autoclose": false,
   "autocomplete": true,
   "bibliofile": "biblio.bib",
   "cite_by": "apalike",
   "current_citInitial": 1,
   "eqLabelWithNumbers": true,
   "eqNumInitial": 1,
   "hotkeys": {
    "equation": "Ctrl-E",
    "itemize": "Ctrl-I"
   },
   "labels_anchors": false,
   "latex_user_defs": false,
   "report_style_numbering": false,
   "user_envs_cfg": false
  },
  "nteract": {
   "version": "0.12.3"
  }
 },
 "nbformat": 4,
 "nbformat_minor": 2
}
