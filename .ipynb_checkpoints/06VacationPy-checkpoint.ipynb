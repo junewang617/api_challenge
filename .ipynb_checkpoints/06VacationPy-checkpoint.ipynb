{
 "cells": [
  {
   "cell_type": "markdown",
   "metadata": {},
   "source": [
    "# VacationPy\n",
    "----\n",
    "\n",
    "#### Note\n",
    "* Instructions have been included for each segment. You do not have to follow them exactly, but they are included to help you think through the steps."
   ]
  },
  {
   "cell_type": "code",
   "execution_count": 4,
   "metadata": {},
   "outputs": [],
   "source": [
    "# Dependencies and Setup\n",
    "import matplotlib.pyplot as plt\n",
    "import pandas as pd\n",
    "import numpy as np\n",
    "import requests\n",
    "import gmaps\n",
    "import os\n",
    "\n",
    "# Import API key\n",
    "from config import g_key"
   ]
  },
  {
   "cell_type": "code",
   "execution_count": 5,
   "metadata": {},
   "outputs": [
    {
     "name": "stdout",
     "output_type": "stream",
     "text": [
      "Requirement already satisfied: gmaps in /Users/applewang/opt/anaconda3/lib/python3.7/site-packages (0.9.0)\n",
      "Requirement already satisfied: geojson>=2.0.0 in /Users/applewang/opt/anaconda3/lib/python3.7/site-packages (from gmaps) (2.5.0)\n",
      "Requirement already satisfied: ipywidgets>=7.0.0 in /Users/applewang/opt/anaconda3/lib/python3.7/site-packages (from gmaps) (7.5.1)\n",
      "Requirement already satisfied: six in /Users/applewang/opt/anaconda3/lib/python3.7/site-packages (from gmaps) (1.14.0)\n",
      "Requirement already satisfied: ipython>=5.3.0 in /Users/applewang/opt/anaconda3/lib/python3.7/site-packages (from gmaps) (7.12.0)\n",
      "Requirement already satisfied: traitlets>=4.3.0 in /Users/applewang/opt/anaconda3/lib/python3.7/site-packages (from gmaps) (4.3.3)\n",
      "Requirement already satisfied: ipykernel>=4.5.1 in /Users/applewang/opt/anaconda3/lib/python3.7/site-packages (from ipywidgets>=7.0.0->gmaps) (5.1.4)\n",
      "Requirement already satisfied: widgetsnbextension~=3.5.0 in /Users/applewang/opt/anaconda3/lib/python3.7/site-packages (from ipywidgets>=7.0.0->gmaps) (3.5.1)\n",
      "Requirement already satisfied: nbformat>=4.2.0 in /Users/applewang/opt/anaconda3/lib/python3.7/site-packages (from ipywidgets>=7.0.0->gmaps) (5.0.4)\n",
      "Requirement already satisfied: jedi>=0.10 in /Users/applewang/opt/anaconda3/lib/python3.7/site-packages (from ipython>=5.3.0->gmaps) (0.14.1)\n",
      "Requirement already satisfied: pickleshare in /Users/applewang/opt/anaconda3/lib/python3.7/site-packages (from ipython>=5.3.0->gmaps) (0.7.5)\n",
      "Requirement already satisfied: decorator in /Users/applewang/opt/anaconda3/lib/python3.7/site-packages (from ipython>=5.3.0->gmaps) (4.4.1)\n",
      "Requirement already satisfied: pygments in /Users/applewang/opt/anaconda3/lib/python3.7/site-packages (from ipython>=5.3.0->gmaps) (2.5.2)\n",
      "Requirement already satisfied: appnope; sys_platform == \"darwin\" in /Users/applewang/opt/anaconda3/lib/python3.7/site-packages (from ipython>=5.3.0->gmaps) (0.1.0)\n",
      "Requirement already satisfied: setuptools>=18.5 in /Users/applewang/opt/anaconda3/lib/python3.7/site-packages (from ipython>=5.3.0->gmaps) (46.0.0.post20200309)\n",
      "Requirement already satisfied: pexpect; sys_platform != \"win32\" in /Users/applewang/opt/anaconda3/lib/python3.7/site-packages (from ipython>=5.3.0->gmaps) (4.8.0)\n",
      "Requirement already satisfied: backcall in /Users/applewang/opt/anaconda3/lib/python3.7/site-packages (from ipython>=5.3.0->gmaps) (0.1.0)\n",
      "Requirement already satisfied: prompt-toolkit!=3.0.0,!=3.0.1,<3.1.0,>=2.0.0 in /Users/applewang/opt/anaconda3/lib/python3.7/site-packages (from ipython>=5.3.0->gmaps) (3.0.3)\n",
      "Requirement already satisfied: ipython-genutils in /Users/applewang/opt/anaconda3/lib/python3.7/site-packages (from traitlets>=4.3.0->gmaps) (0.2.0)\n",
      "Requirement already satisfied: tornado>=4.2 in /Users/applewang/opt/anaconda3/lib/python3.7/site-packages (from ipykernel>=4.5.1->ipywidgets>=7.0.0->gmaps) (6.0.3)\n",
      "Requirement already satisfied: jupyter-client in /Users/applewang/opt/anaconda3/lib/python3.7/site-packages (from ipykernel>=4.5.1->ipywidgets>=7.0.0->gmaps) (5.3.4)\n",
      "Requirement already satisfied: notebook>=4.4.1 in /Users/applewang/opt/anaconda3/lib/python3.7/site-packages (from widgetsnbextension~=3.5.0->ipywidgets>=7.0.0->gmaps) (6.0.3)\n",
      "Requirement already satisfied: jupyter-core in /Users/applewang/opt/anaconda3/lib/python3.7/site-packages (from nbformat>=4.2.0->ipywidgets>=7.0.0->gmaps) (4.6.1)\n",
      "Requirement already satisfied: jsonschema!=2.5.0,>=2.4 in /Users/applewang/opt/anaconda3/lib/python3.7/site-packages (from nbformat>=4.2.0->ipywidgets>=7.0.0->gmaps) (3.2.0)\n",
      "Requirement already satisfied: parso>=0.5.0 in /Users/applewang/opt/anaconda3/lib/python3.7/site-packages (from jedi>=0.10->ipython>=5.3.0->gmaps) (0.5.2)\n",
      "Requirement already satisfied: ptyprocess>=0.5 in /Users/applewang/opt/anaconda3/lib/python3.7/site-packages (from pexpect; sys_platform != \"win32\"->ipython>=5.3.0->gmaps) (0.6.0)\n",
      "Requirement already satisfied: wcwidth in /Users/applewang/opt/anaconda3/lib/python3.7/site-packages (from prompt-toolkit!=3.0.0,!=3.0.1,<3.1.0,>=2.0.0->ipython>=5.3.0->gmaps) (0.1.8)\n",
      "Requirement already satisfied: pyzmq>=13 in /Users/applewang/opt/anaconda3/lib/python3.7/site-packages (from jupyter-client->ipykernel>=4.5.1->ipywidgets>=7.0.0->gmaps) (18.1.1)\n",
      "Requirement already satisfied: python-dateutil>=2.1 in /Users/applewang/opt/anaconda3/lib/python3.7/site-packages (from jupyter-client->ipykernel>=4.5.1->ipywidgets>=7.0.0->gmaps) (2.8.1)\n",
      "Requirement already satisfied: terminado>=0.8.1 in /Users/applewang/opt/anaconda3/lib/python3.7/site-packages (from notebook>=4.4.1->widgetsnbextension~=3.5.0->ipywidgets>=7.0.0->gmaps) (0.8.3)\n",
      "Requirement already satisfied: prometheus-client in /Users/applewang/opt/anaconda3/lib/python3.7/site-packages (from notebook>=4.4.1->widgetsnbextension~=3.5.0->ipywidgets>=7.0.0->gmaps) (0.7.1)\n",
      "Requirement already satisfied: jinja2 in /Users/applewang/opt/anaconda3/lib/python3.7/site-packages (from notebook>=4.4.1->widgetsnbextension~=3.5.0->ipywidgets>=7.0.0->gmaps) (2.11.1)\n",
      "Requirement already satisfied: Send2Trash in /Users/applewang/opt/anaconda3/lib/python3.7/site-packages (from notebook>=4.4.1->widgetsnbextension~=3.5.0->ipywidgets>=7.0.0->gmaps) (1.5.0)\n",
      "Requirement already satisfied: nbconvert in /Users/applewang/opt/anaconda3/lib/python3.7/site-packages (from notebook>=4.4.1->widgetsnbextension~=3.5.0->ipywidgets>=7.0.0->gmaps) (5.6.1)\n",
      "Requirement already satisfied: pyrsistent>=0.14.0 in /Users/applewang/opt/anaconda3/lib/python3.7/site-packages (from jsonschema!=2.5.0,>=2.4->nbformat>=4.2.0->ipywidgets>=7.0.0->gmaps) (0.15.7)\n",
      "Requirement already satisfied: importlib-metadata; python_version < \"3.8\" in /Users/applewang/opt/anaconda3/lib/python3.7/site-packages (from jsonschema!=2.5.0,>=2.4->nbformat>=4.2.0->ipywidgets>=7.0.0->gmaps) (1.5.0)\n",
      "Requirement already satisfied: attrs>=17.4.0 in /Users/applewang/opt/anaconda3/lib/python3.7/site-packages (from jsonschema!=2.5.0,>=2.4->nbformat>=4.2.0->ipywidgets>=7.0.0->gmaps) (19.3.0)\n",
      "Requirement already satisfied: MarkupSafe>=0.23 in /Users/applewang/opt/anaconda3/lib/python3.7/site-packages (from jinja2->notebook>=4.4.1->widgetsnbextension~=3.5.0->ipywidgets>=7.0.0->gmaps) (1.1.1)\n",
      "Requirement already satisfied: entrypoints>=0.2.2 in /Users/applewang/opt/anaconda3/lib/python3.7/site-packages (from nbconvert->notebook>=4.4.1->widgetsnbextension~=3.5.0->ipywidgets>=7.0.0->gmaps) (0.3)\n",
      "Requirement already satisfied: pandocfilters>=1.4.1 in /Users/applewang/opt/anaconda3/lib/python3.7/site-packages (from nbconvert->notebook>=4.4.1->widgetsnbextension~=3.5.0->ipywidgets>=7.0.0->gmaps) (1.4.2)\n",
      "Requirement already satisfied: defusedxml in /Users/applewang/opt/anaconda3/lib/python3.7/site-packages (from nbconvert->notebook>=4.4.1->widgetsnbextension~=3.5.0->ipywidgets>=7.0.0->gmaps) (0.6.0)\n",
      "Requirement already satisfied: testpath in /Users/applewang/opt/anaconda3/lib/python3.7/site-packages (from nbconvert->notebook>=4.4.1->widgetsnbextension~=3.5.0->ipywidgets>=7.0.0->gmaps) (0.4.4)\n",
      "Requirement already satisfied: mistune<2,>=0.8.1 in /Users/applewang/opt/anaconda3/lib/python3.7/site-packages (from nbconvert->notebook>=4.4.1->widgetsnbextension~=3.5.0->ipywidgets>=7.0.0->gmaps) (0.8.4)\n",
      "Requirement already satisfied: bleach in /Users/applewang/opt/anaconda3/lib/python3.7/site-packages (from nbconvert->notebook>=4.4.1->widgetsnbextension~=3.5.0->ipywidgets>=7.0.0->gmaps) (3.1.0)\n",
      "Requirement already satisfied: zipp>=0.5 in /Users/applewang/opt/anaconda3/lib/python3.7/site-packages (from importlib-metadata; python_version < \"3.8\"->jsonschema!=2.5.0,>=2.4->nbformat>=4.2.0->ipywidgets>=7.0.0->gmaps) (2.2.0)\n",
      "Requirement already satisfied: webencodings in /Users/applewang/opt/anaconda3/lib/python3.7/site-packages (from bleach->nbconvert->notebook>=4.4.1->widgetsnbextension~=3.5.0->ipywidgets>=7.0.0->gmaps) (0.5.1)\n",
      "Note: you may need to restart the kernel to use updated packages.\n"
     ]
    }
   ],
   "source": [
    "pip install gmaps"
   ]
  },
  {
   "cell_type": "markdown",
   "metadata": {},
   "source": [
    "### Store Part I results into DataFrame\n",
    "* Load the csv exported in Part I to a DataFrame"
   ]
  },
  {
   "cell_type": "code",
   "execution_count": 11,
   "metadata": {},
   "outputs": [
    {
     "data": {
      "text/html": [
       "<div>\n",
       "<style scoped>\n",
       "    .dataframe tbody tr th:only-of-type {\n",
       "        vertical-align: middle;\n",
       "    }\n",
       "\n",
       "    .dataframe tbody tr th {\n",
       "        vertical-align: top;\n",
       "    }\n",
       "\n",
       "    .dataframe thead th {\n",
       "        text-align: right;\n",
       "    }\n",
       "</style>\n",
       "<table border=\"1\" class=\"dataframe\">\n",
       "  <thead>\n",
       "    <tr style=\"text-align: right;\">\n",
       "      <th></th>\n",
       "      <th>City</th>\n",
       "      <th>Country</th>\n",
       "      <th>Temperature</th>\n",
       "      <th>Humidity</th>\n",
       "      <th>Cloudiness</th>\n",
       "      <th>Windspeed</th>\n",
       "      <th>Date</th>\n",
       "      <th>Longitude</th>\n",
       "      <th>Latitude</th>\n",
       "    </tr>\n",
       "  </thead>\n",
       "  <tbody>\n",
       "    <tr>\n",
       "      <th>0</th>\n",
       "      <td>Dunedin</td>\n",
       "      <td>NZ</td>\n",
       "      <td>46.00</td>\n",
       "      <td>93</td>\n",
       "      <td>95</td>\n",
       "      <td>9.89</td>\n",
       "      <td>1593022623</td>\n",
       "      <td>170.50</td>\n",
       "      <td>-45.87</td>\n",
       "    </tr>\n",
       "    <tr>\n",
       "      <th>1</th>\n",
       "      <td>Tiksi</td>\n",
       "      <td>RU</td>\n",
       "      <td>60.44</td>\n",
       "      <td>57</td>\n",
       "      <td>43</td>\n",
       "      <td>4.27</td>\n",
       "      <td>1593022609</td>\n",
       "      <td>128.87</td>\n",
       "      <td>71.69</td>\n",
       "    </tr>\n",
       "    <tr>\n",
       "      <th>2</th>\n",
       "      <td>Marinette</td>\n",
       "      <td>US</td>\n",
       "      <td>73.40</td>\n",
       "      <td>72</td>\n",
       "      <td>90</td>\n",
       "      <td>11.41</td>\n",
       "      <td>1593022670</td>\n",
       "      <td>-87.63</td>\n",
       "      <td>45.10</td>\n",
       "    </tr>\n",
       "    <tr>\n",
       "      <th>3</th>\n",
       "      <td>Jacareacanga</td>\n",
       "      <td>BR</td>\n",
       "      <td>93.20</td>\n",
       "      <td>49</td>\n",
       "      <td>20</td>\n",
       "      <td>5.82</td>\n",
       "      <td>1593022670</td>\n",
       "      <td>-57.75</td>\n",
       "      <td>-6.22</td>\n",
       "    </tr>\n",
       "    <tr>\n",
       "      <th>4</th>\n",
       "      <td>Rikitea</td>\n",
       "      <td>PF</td>\n",
       "      <td>70.48</td>\n",
       "      <td>53</td>\n",
       "      <td>94</td>\n",
       "      <td>7.94</td>\n",
       "      <td>1593022607</td>\n",
       "      <td>-134.97</td>\n",
       "      <td>-23.12</td>\n",
       "    </tr>\n",
       "    <tr>\n",
       "      <th>...</th>\n",
       "      <td>...</td>\n",
       "      <td>...</td>\n",
       "      <td>...</td>\n",
       "      <td>...</td>\n",
       "      <td>...</td>\n",
       "      <td>...</td>\n",
       "      <td>...</td>\n",
       "      <td>...</td>\n",
       "      <td>...</td>\n",
       "    </tr>\n",
       "    <tr>\n",
       "      <th>540</th>\n",
       "      <td>San Carlos</td>\n",
       "      <td>VE</td>\n",
       "      <td>87.60</td>\n",
       "      <td>59</td>\n",
       "      <td>86</td>\n",
       "      <td>3.87</td>\n",
       "      <td>1593022405</td>\n",
       "      <td>-68.58</td>\n",
       "      <td>9.66</td>\n",
       "    </tr>\n",
       "    <tr>\n",
       "      <th>541</th>\n",
       "      <td>Aswān</td>\n",
       "      <td>EG</td>\n",
       "      <td>98.71</td>\n",
       "      <td>10</td>\n",
       "      <td>0</td>\n",
       "      <td>15.17</td>\n",
       "      <td>1593022475</td>\n",
       "      <td>32.91</td>\n",
       "      <td>24.09</td>\n",
       "    </tr>\n",
       "    <tr>\n",
       "      <th>542</th>\n",
       "      <td>Takhtamygda</td>\n",
       "      <td>RU</td>\n",
       "      <td>53.73</td>\n",
       "      <td>66</td>\n",
       "      <td>54</td>\n",
       "      <td>1.28</td>\n",
       "      <td>1593022697</td>\n",
       "      <td>123.57</td>\n",
       "      <td>54.10</td>\n",
       "    </tr>\n",
       "    <tr>\n",
       "      <th>543</th>\n",
       "      <td>Marabu</td>\n",
       "      <td>MY</td>\n",
       "      <td>78.80</td>\n",
       "      <td>94</td>\n",
       "      <td>75</td>\n",
       "      <td>2.24</td>\n",
       "      <td>1593022453</td>\n",
       "      <td>114.01</td>\n",
       "      <td>4.41</td>\n",
       "    </tr>\n",
       "    <tr>\n",
       "      <th>544</th>\n",
       "      <td>Mahon</td>\n",
       "      <td>ES</td>\n",
       "      <td>80.60</td>\n",
       "      <td>39</td>\n",
       "      <td>0</td>\n",
       "      <td>9.17</td>\n",
       "      <td>1593022415</td>\n",
       "      <td>4.27</td>\n",
       "      <td>39.89</td>\n",
       "    </tr>\n",
       "  </tbody>\n",
       "</table>\n",
       "<p>545 rows × 9 columns</p>\n",
       "</div>"
      ],
      "text/plain": [
       "             City Country  Temperature  Humidity  Cloudiness  Windspeed  \\\n",
       "0         Dunedin      NZ        46.00        93          95       9.89   \n",
       "1           Tiksi      RU        60.44        57          43       4.27   \n",
       "2       Marinette      US        73.40        72          90      11.41   \n",
       "3    Jacareacanga      BR        93.20        49          20       5.82   \n",
       "4         Rikitea      PF        70.48        53          94       7.94   \n",
       "..            ...     ...          ...       ...         ...        ...   \n",
       "540    San Carlos      VE        87.60        59          86       3.87   \n",
       "541         Aswān      EG        98.71        10           0      15.17   \n",
       "542   Takhtamygda      RU        53.73        66          54       1.28   \n",
       "543        Marabu      MY        78.80        94          75       2.24   \n",
       "544         Mahon      ES        80.60        39           0       9.17   \n",
       "\n",
       "           Date  Longitude  Latitude  \n",
       "0    1593022623     170.50    -45.87  \n",
       "1    1593022609     128.87     71.69  \n",
       "2    1593022670     -87.63     45.10  \n",
       "3    1593022670     -57.75     -6.22  \n",
       "4    1593022607    -134.97    -23.12  \n",
       "..          ...        ...       ...  \n",
       "540  1593022405     -68.58      9.66  \n",
       "541  1593022475      32.91     24.09  \n",
       "542  1593022697     123.57     54.10  \n",
       "543  1593022453     114.01      4.41  \n",
       "544  1593022415       4.27     39.89  \n",
       "\n",
       "[545 rows x 9 columns]"
      ]
     },
     "execution_count": 11,
     "metadata": {},
     "output_type": "execute_result"
    }
   ],
   "source": [
    "cities=pd.read_csv(\"/Users/applewang/Desktop/github/api_challenge/cities.csv\")\n",
    "cityweather = pd.read_csv(\"/Users/applewang/Desktop/github/api_challenge/cityweather.csv\")\n",
    "cityweather"
   ]
  },
  {
   "cell_type": "markdown",
   "metadata": {},
   "source": [
    "### Humidity Heatmap\n",
    "* Configure gmaps.\n",
    "* Use the Lat and Lng as locations and Humidity as the weight.\n",
    "* Add Heatmap layer to map."
   ]
  },
  {
   "cell_type": "code",
   "execution_count": 12,
   "metadata": {},
   "outputs": [
    {
     "data": {
      "text/html": [
       "<div>\n",
       "<style scoped>\n",
       "    .dataframe tbody tr th:only-of-type {\n",
       "        vertical-align: middle;\n",
       "    }\n",
       "\n",
       "    .dataframe tbody tr th {\n",
       "        vertical-align: top;\n",
       "    }\n",
       "\n",
       "    .dataframe thead th {\n",
       "        text-align: right;\n",
       "    }\n",
       "</style>\n",
       "<table border=\"1\" class=\"dataframe\">\n",
       "  <thead>\n",
       "    <tr style=\"text-align: right;\">\n",
       "      <th></th>\n",
       "      <th>Latitude</th>\n",
       "      <th>Longitude</th>\n",
       "    </tr>\n",
       "  </thead>\n",
       "  <tbody>\n",
       "    <tr>\n",
       "      <th>0</th>\n",
       "      <td>-45.87</td>\n",
       "      <td>170.50</td>\n",
       "    </tr>\n",
       "    <tr>\n",
       "      <th>1</th>\n",
       "      <td>71.69</td>\n",
       "      <td>128.87</td>\n",
       "    </tr>\n",
       "    <tr>\n",
       "      <th>2</th>\n",
       "      <td>45.10</td>\n",
       "      <td>-87.63</td>\n",
       "    </tr>\n",
       "    <tr>\n",
       "      <th>3</th>\n",
       "      <td>-6.22</td>\n",
       "      <td>-57.75</td>\n",
       "    </tr>\n",
       "    <tr>\n",
       "      <th>4</th>\n",
       "      <td>-23.12</td>\n",
       "      <td>-134.97</td>\n",
       "    </tr>\n",
       "    <tr>\n",
       "      <th>...</th>\n",
       "      <td>...</td>\n",
       "      <td>...</td>\n",
       "    </tr>\n",
       "    <tr>\n",
       "      <th>540</th>\n",
       "      <td>9.66</td>\n",
       "      <td>-68.58</td>\n",
       "    </tr>\n",
       "    <tr>\n",
       "      <th>541</th>\n",
       "      <td>24.09</td>\n",
       "      <td>32.91</td>\n",
       "    </tr>\n",
       "    <tr>\n",
       "      <th>542</th>\n",
       "      <td>54.10</td>\n",
       "      <td>123.57</td>\n",
       "    </tr>\n",
       "    <tr>\n",
       "      <th>543</th>\n",
       "      <td>4.41</td>\n",
       "      <td>114.01</td>\n",
       "    </tr>\n",
       "    <tr>\n",
       "      <th>544</th>\n",
       "      <td>39.89</td>\n",
       "      <td>4.27</td>\n",
       "    </tr>\n",
       "  </tbody>\n",
       "</table>\n",
       "<p>545 rows × 2 columns</p>\n",
       "</div>"
      ],
      "text/plain": [
       "     Latitude  Longitude\n",
       "0      -45.87     170.50\n",
       "1       71.69     128.87\n",
       "2       45.10     -87.63\n",
       "3       -6.22     -57.75\n",
       "4      -23.12    -134.97\n",
       "..        ...        ...\n",
       "540      9.66     -68.58\n",
       "541     24.09      32.91\n",
       "542     54.10     123.57\n",
       "543      4.41     114.01\n",
       "544     39.89       4.27\n",
       "\n",
       "[545 rows x 2 columns]"
      ]
     },
     "execution_count": 12,
     "metadata": {},
     "output_type": "execute_result"
    }
   ],
   "source": [
    "#create location dataframe contain only lat and lng \n",
    "location_df = cityweather[[\"Latitude\",\"Longitude\"]]\n",
    "location_df"
   ]
  },
  {
   "cell_type": "code",
   "execution_count": 14,
   "metadata": {},
   "outputs": [
    {
     "data": {
      "text/plain": [
       "0      93\n",
       "1      57\n",
       "2      72\n",
       "3      49\n",
       "4      53\n",
       "       ..\n",
       "540    59\n",
       "541    10\n",
       "542    66\n",
       "543    94\n",
       "544    39\n",
       "Name: Humidity, Length: 545, dtype: int64"
      ]
     },
     "execution_count": 14,
     "metadata": {},
     "output_type": "execute_result"
    }
   ],
   "source": [
    "humidity = cityweather[\"Humidity\"]\n",
    "humidity"
   ]
  },
  {
   "cell_type": "code",
   "execution_count": 25,
   "metadata": {},
   "outputs": [],
   "source": [
    "#config g-key\n",
    "gmaps.configure(api_key = g_key)\n",
    "#create layout list\n",
    "layout = {'width': '1000px',\n",
    "    'height': '600px',\n",
    "    'border': '1px solid black',\n",
    "    'padding': '1px'}\n",
    "#create gmaps figure\n",
    "fig = gmaps.figure(map_type=\"TERRAIN\", zoom_level=1.5, center=(0,0), layout=layout)\n",
    "\n",
    "humidity_layer = gmaps.heatmap_layer(location_df, weights=humidity, \n",
    "                                 dissipating=False, max_intensity=100,\n",
    "                                 point_radius= 1.5)\n",
    "#heatmap\n",
    "\n",
    "#fig.add_layer(humidity_layer)\n",
    "#fig\n"
   ]
  },
  {
   "cell_type": "code",
   "execution_count": 28,
   "metadata": {},
   "outputs": [
    {
     "ename": "AttributeError",
     "evalue": "'Figure' object has no attribute 'show'",
     "output_type": "error",
     "traceback": [
      "\u001b[0;31m---------------------------------------------------------------------------\u001b[0m",
      "\u001b[0;31mAttributeError\u001b[0m                            Traceback (most recent call last)",
      "\u001b[0;32m<ipython-input-28-6ebedab27258>\u001b[0m in \u001b[0;36m<module>\u001b[0;34m\u001b[0m\n\u001b[0;32m----> 1\u001b[0;31m \u001b[0mfig\u001b[0m\u001b[0;34m.\u001b[0m\u001b[0mshow\u001b[0m\u001b[0;34m(\u001b[0m\u001b[0;34m)\u001b[0m\u001b[0;34m\u001b[0m\u001b[0;34m\u001b[0m\u001b[0m\n\u001b[0m",
      "\u001b[0;31mAttributeError\u001b[0m: 'Figure' object has no attribute 'show'"
     ]
    }
   ],
   "source": [
    "fig"
   ]
  },
  {
   "cell_type": "code",
   "execution_count": 29,
   "metadata": {},
   "outputs": [
    {
     "ename": "SyntaxError",
     "evalue": "invalid syntax (<ipython-input-29-a1f9ad41e54e>, line 1)",
     "output_type": "error",
     "traceback": [
      "\u001b[0;36m  File \u001b[0;32m\"<ipython-input-29-a1f9ad41e54e>\"\u001b[0;36m, line \u001b[0;32m1\u001b[0m\n\u001b[0;31m    jupyter nbextension enable --py gmaps\u001b[0m\n\u001b[0m                      ^\u001b[0m\n\u001b[0;31mSyntaxError\u001b[0m\u001b[0;31m:\u001b[0m invalid syntax\n"
     ]
    }
   ],
   "source": [
    "jupyter nbextension enable --py gmaps\n"
   ]
  },
  {
   "cell_type": "code",
   "execution_count": 27,
   "metadata": {},
   "outputs": [
    {
     "data": {
      "application/vnd.jupyter.widget-view+json": {
       "model_id": "b1438197c1af4e129bfe5eb7f0f20b2a",
       "version_major": 2,
       "version_minor": 0
      },
      "text/plain": [
       "WeightedHeatmap(data_bounds=[(-46.79206662888946, -179.99999), (85.0, 179.99999)], dissipating=False, location…"
      ]
     },
     "metadata": {},
     "output_type": "display_data"
    }
   ],
   "source": [
    "humidity_layer"
   ]
  },
  {
   "cell_type": "markdown",
   "metadata": {},
   "source": [
    "### Create new DataFrame fitting weather criteria\n",
    "* Narrow down the cities to fit weather conditions.\n",
    "* Drop any rows will null values."
   ]
  },
  {
   "cell_type": "code",
   "execution_count": null,
   "metadata": {},
   "outputs": [],
   "source": []
  },
  {
   "cell_type": "markdown",
   "metadata": {},
   "source": [
    "### Hotel Map\n",
    "* Store into variable named `hotel_df`.\n",
    "* Add a \"Hotel Name\" column to the DataFrame.\n",
    "* Set parameters to search for hotels with 5000 meters.\n",
    "* Hit the Google Places API for each city's coordinates.\n",
    "* Store the first Hotel result into the DataFrame.\n",
    "* Plot markers on top of the heatmap."
   ]
  },
  {
   "cell_type": "code",
   "execution_count": null,
   "metadata": {},
   "outputs": [],
   "source": []
  },
  {
   "cell_type": "code",
   "execution_count": null,
   "metadata": {},
   "outputs": [],
   "source": []
  },
  {
   "cell_type": "code",
   "execution_count": null,
   "metadata": {},
   "outputs": [],
   "source": [
    "# NOTE: Do not change any of the code in this cell\n",
    "\n",
    "# Using the template add the hotel marks to the heatmap\n",
    "info_box_template = \"\"\"\n",
    "<dl>\n",
    "<dt>Name</dt><dd>{Hotel Name}</dd>\n",
    "<dt>City</dt><dd>{City}</dd>\n",
    "<dt>Country</dt><dd>{Country}</dd>\n",
    "</dl>\n",
    "\"\"\"\n",
    "# Store the DataFrame Row\n",
    "# NOTE: be sure to update with your DataFrame name\n",
    "hotel_info = [info_box_template.format(**row) for index, row in hotel_df.iterrows()]\n",
    "locations = hotel_df[[\"Lat\", \"Lng\"]]"
   ]
  },
  {
   "cell_type": "code",
   "execution_count": null,
   "metadata": {},
   "outputs": [],
   "source": [
    "# Add marker layer ontop of heat map\n",
    "\n",
    "\n",
    "# Display figure\n"
   ]
  },
  {
   "cell_type": "code",
   "execution_count": null,
   "metadata": {},
   "outputs": [],
   "source": []
  }
 ],
 "metadata": {
  "kernelspec": {
   "display_name": "Python 3",
   "language": "python",
   "name": "python3"
  },
  "language_info": {
   "codemirror_mode": {
    "name": "ipython",
    "version": 3
   },
   "file_extension": ".py",
   "mimetype": "text/x-python",
   "name": "python",
   "nbconvert_exporter": "python",
   "pygments_lexer": "ipython3",
   "version": "3.7.6"
  },
  "latex_envs": {
   "LaTeX_envs_menu_present": true,
   "autoclose": false,
   "autocomplete": true,
   "bibliofile": "biblio.bib",
   "cite_by": "apalike",
   "current_citInitial": 1,
   "eqLabelWithNumbers": true,
   "eqNumInitial": 1,
   "hotkeys": {
    "equation": "Ctrl-E",
    "itemize": "Ctrl-I"
   },
   "labels_anchors": false,
   "latex_user_defs": false,
   "report_style_numbering": false,
   "user_envs_cfg": false
  }
 },
 "nbformat": 4,
 "nbformat_minor": 2
}
